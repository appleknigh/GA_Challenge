{
 "cells": [
  {
   "cell_type": "markdown",
   "metadata": {},
   "source": [
    "## GA Sample Teach: Decision Tree - Course Note"
   ]
  },
  {
   "cell_type": "markdown",
   "metadata": {},
   "source": [
    "### Objective\n",
    "\n",
    "Jamie is a marketing manager who would like to transition to become a Data Scienist. Since Jamie recently had a baby, *he would like to know how much he should expect to make as a Data Scientist* in US and Canada (dual citizen).\n",
    "\n",
    "By the end of the lession, you will be able to use a decision tree to help Jamie solve his problem. To doing so, you will:\n",
    "1. [x] Establish an intuitive understanding of how regression tree works\n",
    "2. [x] Know how to use sklearn package to fit decision tree for regression"
   ]
  },
  {
   "cell_type": "markdown",
   "metadata": {},
   "source": [
    "### 1. How does a Decision Tree functions?\n",
    "\n",
    "Regression decision tree is an **algorithm** that estimates the **conditional expected value** of a **response**, given a set of **features**.\n",
    "\n",
    "- **Algorithm**: An automated way to obtain a solution to a problem.\n",
    "- **Conditional expected value**: the average response (salary) based upon that certain set of features, such as education, experience etc.\n",
    "- **Response**: The output of a model, generally it is the value that you are interested in predicting.\n",
    "- **Features**: A set of conditions or events that may change the response.\n",
    "\n",
    "\n",
    "To claify this concept, let's go through the following exercise."
   ]
  },
  {
   "cell_type": "markdown",
   "metadata": {},
   "source": [
    "#### Problem: How much should I expect to make as a Data Scientist?\n",
    "\n",
    "For our analysis, we will use survey data provided by kaggle, see below for a brief description. You can download the data used for this lecture here LINK.\n",
    "\n",
    "    This data contains individuals salary information for 16,000 data scientist, along with other info about the responders such as: Gender, education, country of employement, working tenure, job title etc."
   ]
  },
  {
   "cell_type": "markdown",
   "metadata": {},
   "source": [
    "#### Approach: Using decision tree to examine the *conditional expected salary*\n",
    "\n",
    "One way to explore the approach is by setting his expectation based on the average salary of all respondents."
   ]
  },
  {
   "cell_type": "code",
   "execution_count": 139,
   "metadata": {},
   "outputs": [
    {
     "name": "stdout",
     "output_type": "stream",
     "text": [
      "The average salary reporeted by 3362 respondants is $78,652.10\n"
     ]
    }
   ],
   "source": [
    "#Load package and data\n",
    "import numpy as np\n",
    "import pandas as pd\n",
    "\n",
    "df_survey = pd.read_csv('C:/Users/Robert/Documents/CS Documents/GA_SampleTeach/KaggleDSSurvey_cleanedFv.csv')\n",
    "\n",
    "#Calculate average salary\n",
    "N_resp = df_survey.shape[0]\n",
    "EV_Salary = df_survey['CompensationUSD'].mean(axis=0)\n",
    "print('The average salary reporeted by {} respondants is ${:,.2f}'.format(N_resp,EV_Salary))"
   ]
  },
  {
   "cell_type": "markdown",
   "metadata": {},
   "source": [
    "However, does the average salary of $79k apply to Jamie? Considering the fact that:\n",
    "- Jamie is a entry level, with <1 year tenure in the industry\n",
    "- But, Jamie is an experienced manager with a master's in engineering\n",
    "\n",
    "In other words, given these criteria along with others (e.g, gender, location etc.), what is Jamie's **conditional expected value**?"
   ]
  },
  {
   "cell_type": "markdown",
   "metadata": {},
   "source": [
    "To answer this question, we could manually segment the data. However doing so is time consuming, since we have X number of **features** attached to each member.\n",
    "\n",
    "This is where **algorithm** comes handy. In fact, we can use a regression tree package provided by sklearn to do it very fast."
   ]
  },
  {
   "cell_type": "code",
   "execution_count": 141,
   "metadata": {},
   "outputs": [
    {
     "data": {
      "text/plain": [
       "DecisionTreeRegressor(ccp_alpha=0.0, criterion='mse', max_depth=None,\n",
       "                      max_features=None, max_leaf_nodes=None,\n",
       "                      min_impurity_decrease=0.0, min_impurity_split=None,\n",
       "                      min_samples_leaf=0.1, min_samples_split=2,\n",
       "                      min_weight_fraction_leaf=0.0, presort='deprecated',\n",
       "                      random_state=None, splitter='best')"
      ]
     },
     "execution_count": 141,
     "metadata": {},
     "output_type": "execute_result"
    }
   ],
   "source": [
    "#Split data so that response (salary) and features are stored in y and x variables.\n",
    "y = df_survey['CompensationUSD']\n",
    "x = pd.get_dummies(df_survey.drop('CompensationUSD', axis=1))\n",
    "\n",
    "#Fitting the regression tree\n",
    "reg_fit = tree.DecisionTreeRegressor(min_samples_leaf=0.05) #here, we need to specify the min number of samples to terminate a leaf. Play around with this number and see what happens\n",
    "reg_fit.fit(x,y)"
   ]
  },
  {
   "cell_type": "markdown",
   "metadata": {},
   "source": [
    "Using the survey data, the Tree algorithm automatically search for ways to branch the data into groups or nodes. The goal here is to create nodes with maximum difference in conditional expected salary.\n",
    "\n",
    "    The algoirthm identified the best split that produces the biggest difference. It then continious branching down to get more and more granular. Finally, the search stops when the samples are either small enough, or there is no difference between the nodes.\n",
    "\n",
    "Note that the min_sample_leaf variable specify the stop criteria. Setting it at 0.05 means that the split terminates when the sample size within each node < 5% of the total. We will learn more about this in later classes."
   ]
  },
  {
   "cell_type": "markdown",
   "metadata": {},
   "source": [
    "#### Intrepretation: US Data Scientists get paid a preimum, while management skills becomes an asset with tenure."
   ]
  },
  {
   "cell_type": "markdown",
   "metadata": {},
   "source": [
    "Let's take a look at what happen when we apply the algorithm: file:///C:/Users/Robert/Downloads/graphviz%20(13).svg"
   ]
  },
  {
   "cell_type": "markdown",
   "metadata": {},
   "source": [
    "### 2. Let's test your skills with sklearn"
   ]
  },
  {
   "cell_type": "markdown",
   "metadata": {},
   "source": [
    "#### Problem: Determine the expected salary for Data Scientists in Canada\n",
    "\n",
    "- You can download the dataset here: [LINK]"
   ]
  },
  {
   "cell_type": "code",
   "execution_count": null,
   "metadata": {},
   "outputs": [],
   "source": [
    "#Load data and library\n",
    "#Load package and data\n",
    "import numpy as np\n",
    "import pandas as pd\n",
    "\n",
    "df_survey = pd.read_csv('C:/Users/Robert/Documents/CS Documents/GA_SampleTeach/KaggleDSSurvey_cleanedFv.csv')\n",
    "\n",
    "#PRACTICE: Use sklearn package to fit a decision tree.\n",
    "#A) Split df_survey to store features in variable x, and response with variable y\n",
    "\n",
    "\n",
    "#B) Import sklearn package\n",
    "\n",
    "\n",
    "#C) Fit y and x using the sklearn tree algorithm package\n",
    "\n",
    "\n"
   ]
  },
  {
   "cell_type": "markdown",
   "metadata": {},
   "source": [
    "Once finished run the script below to validate, and visualize your work"
   ]
  },
  {
   "cell_type": "code",
   "execution_count": 143,
   "metadata": {},
   "outputs": [
    {
     "name": "stdout",
     "output_type": "stream",
     "text": [
      "Excellent! You know know the basics to fitting a decision tree.\n",
      "Now, you can open up the image saved on your local hard drive to view the results\n"
     ]
    }
   ],
   "source": [
    "#valudation\n",
    "try:\n",
    "    print('Excellent! You know know the basics to fitting a decision tree.')\n",
    "    print('Now, you can open up the image saved on your local hard drive to view the results')\n",
    "except:    \n",
    "    print('Please try again or ask your instructors for help.')"
   ]
  },
  {
   "cell_type": "markdown",
   "metadata": {},
   "source": [
    "**Lastly, please submit your code along with the tree regression figure along with a brief description to interpret the results by next class**"
   ]
  },
  {
   "cell_type": "markdown",
   "metadata": {},
   "source": [
    "know how the key concept and terms, and how to use sklearn. \n",
    "\n",
    "Also walk away with new insight more about data science salary expectation that could be helpful to influence your decision to join DS (THIS IS WHAT DATA SCIENCE REALLY IS, FINDING INTERESTING AND USEFUL FACTS)"
   ]
  }
 ],
 "metadata": {
  "kernelspec": {
   "display_name": "Python 3.7.6 64-bit ('base': conda)",
   "language": "python",
   "name": "python37664bitbasecondabb3a7218ba6148c2a273cdc999cc792d"
  },
  "language_info": {
   "codemirror_mode": {
    "name": "ipython",
    "version": 3
   },
   "file_extension": ".py",
   "mimetype": "text/x-python",
   "name": "python",
   "nbconvert_exporter": "python",
   "pygments_lexer": "ipython3",
   "version": "3.7.6"
  }
 },
 "nbformat": 4,
 "nbformat_minor": 4
}
