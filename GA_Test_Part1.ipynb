{
 "cells": [
  {
   "cell_type": "markdown",
   "metadata": {},
   "source": [
    "# Part 1: Modeling Challenge"
   ]
  },
  {
   "cell_type": "markdown",
   "metadata": {},
   "source": [
    "## i) Python Coding and Data Set"
   ]
  },
  {
   "cell_type": "markdown",
   "metadata": {},
   "source": [
    "### Load in the data file, load in the header file and attach it to the dataframe"
   ]
  },
  {
   "cell_type": "code",
   "execution_count": 1,
   "metadata": {},
   "outputs": [],
   "source": [
    "import os\n",
    "import copy\n",
    "\n",
    "import numpy as np\n",
    "import pandas as pd\n",
    "\n",
    "from sklearn import preprocessing\n",
    "import scipy.stats as stats\n",
    "from scipy.stats import ranksums\n",
    "from scipy.stats import ttest_ind\n",
    "from sklearn.feature_selection import SelectKBest,f_classif\n",
    "from sklearn.linear_model import LogisticRegressionCV\n",
    "from sklearn import decomposition\n",
    "from sklearn.model_selection import GridSearchCV\n",
    "from sklearn.ensemble import RandomForestClassifier\n",
    "from sklearn.model_selection import train_test_split\n",
    "from sklearn.metrics import accuracy_score, confusion_matrix\n",
    "from sklearn.impute import KNNImputer\n",
    "\n",
    "import matplotlib.pyplot as plt\n",
    "import seaborn as sns"
   ]
  },
  {
   "cell_type": "code",
   "execution_count": 2,
   "metadata": {},
   "outputs": [],
   "source": [
    "#Changing working directory to where the input and output files are saved\n",
    "folder_path = 'C:/Users/Chen/Documents/DS Projects/DS Instructor'\n",
    "working_dir = os.chdir(folder_path)"
   ]
  },
  {
   "cell_type": "code",
   "execution_count": 3,
   "metadata": {},
   "outputs": [],
   "source": [
    "#Loading input files\n",
    "df_colhead = pd.read_csv('field_names.txt',header=None)\n",
    "df_cancer = pd.read_csv('breast-cancer.csv',header=None)\n",
    "#reassign header for df_cancer using first column values of df_colhead\n",
    "df_cancer.columns=df_colhead.iloc[:,0]"
   ]
  },
  {
   "cell_type": "markdown",
   "metadata": {},
   "source": [
    "### Comment on any steps you might take to evaluate or transform the dataset.\n",
    "\n",
    "Garbage in garbage out, so ensuring that the data quality is good should be the first step. \n",
    "\n",
    "Two common ways that may contribute to bad quality data are:\n",
    "1. Missing data points. For instance, if the record is corrupted.\n",
    "2. Not missing but erroneous data points. For example, recording error that could sometimes show up as outliers.\n",
    "\n",
    "Once bad quality data are identified, we would next need to impute them instead of leaving them as NaN. This is because most of the machine learning algorithms do not work well with NaN data points. "
   ]
  },
  {
   "cell_type": "code",
   "execution_count": 4,
   "metadata": {},
   "outputs": [
    {
     "name": "stdout",
     "output_type": "stream",
     "text": [
      "Is there any data that are missing:\n",
      "False\n",
      "False\n"
     ]
    }
   ],
   "source": [
    "#Check for missing data\n",
    "print('Is there any data that are missing:')\n",
    "print(str(df_cancer.isna().values.any()))\n",
    "print(str(df_cancer.isnull().values.any()))"
   ]
  },
  {
   "cell_type": "code",
   "execution_count": 5,
   "metadata": {},
   "outputs": [],
   "source": [
    "#Check for any outliers using z score (|score|>3)\n",
    "\n",
    "#Make a copy of the original - used later to contrast against the dataset with outlier removed\n",
    "x_transformed = df_cancer.iloc[:,2:]\n",
    "x_original = copy.deepcopy(df_cancer.iloc[:,2:]) \n",
    "\n",
    "#transform x into z scores\n",
    "scaler = preprocessing.scale\n",
    "x_scaled = abs(x_original.apply(lambda x: scaler(x)))\n",
    "\n",
    "#Remove outliers, and then use KNN to impute back the value using the 3 nearest rows\n",
    "x_transformed[x_scaled>3] = np.nan\n",
    "imputer = KNNImputer(n_neighbors=3)\n",
    "x_transformed = imputer.fit_transform(x_transformed)\n",
    "df_cancer.iloc[:,2:] = x_transformed"
   ]
  },
  {
   "cell_type": "markdown",
   "metadata": {},
   "source": [
    "Diagnostic plot to ensure that the data with outlier removed still resembles the original set. Take-aways:\n",
    "- Only a small % of values within each column are removed and imputed (<2%)\n",
    "- No change in distribution of the columns after imputation, as indicated by KS test"
   ]
  },
  {
   "cell_type": "code",
   "execution_count": 6,
   "metadata": {
    "scrolled": true
   },
   "outputs": [
    {
     "name": "stdout",
     "output_type": "stream",
     "text": [
      "['p-values of ks test: [1. 1. 1. 1. 1. 1. 1. 1. 1. 1. 1. 1. 1. 1. 1. 1. 1. 1. 1. 1. 1. 1. 1. 1.\\n 1. 1. 1. 1. 1. 1.]']\n"
     ]
    },
    {
     "data": {
      "image/png": "[encoded data removed]",
      "text/plain": [
       "<Figure size 432x288 with 1 Axes>"
      ]
     },
     "metadata": {
      "needs_background": "light"
     },
     "output_type": "display_data"
    }
   ],
   "source": [
    "#<2% in any one column are identified as outliers and removed,\n",
    "x_NOutlier = (x_scaled>3).astype(int)\n",
    "P_outlier = x_NOutlier.sum(axis=0)/x_original.shape[0]\n",
    "plt.title('Percentage of the column identified as outlies')\n",
    "plt.plot(P_outlier)\n",
    "\n",
    "#no change in overall distribution of the columns by Kolmogorov-Smirnov test\n",
    "x_kstest = [stats.ks_2samp(x_original.iloc[:,col],x_transformed[:,col]).pvalue for col in range(x_original.shape[1])]\n",
    "print(['p-values of ks test: '+str(np.round(x_kstest,2))])"
   ]
  },
  {
   "cell_type": "markdown",
   "metadata": {},
   "source": [
    "### Compute the mean and median smoothness and compactness for benign and malignant tumors - do they differ? Explain how you would identify this."
   ]
  },
  {
   "cell_type": "code",
   "execution_count": 7,
   "metadata": {},
   "outputs": [
    {
     "name": "stdout",
     "output_type": "stream",
     "text": [
      "[Smoothness, compactness] Mean for benign: [2.00032129 0.02048892]\n",
      "[Smoothness, compactness] Mean for malignant: [4.08172642 0.03052756]\n",
      "[Smoothness, compactness] Median for benign: [1.851   0.01631]\n",
      "[Smoothness, compactness] Median for malignant: [3.6425  0.02859]\n"
     ]
    }
   ],
   "source": [
    "c_smooth = df_cancer.smoothness_mean\n",
    "c_compact = df_cancer.compactness_mean\n",
    "i_M = df_cancer['diagnosis']=='M'\n",
    "i_B = df_cancer['diagnosis']=='B'\n",
    "\n",
    "print('[Smoothness, compactness] Mean for benign: ' + str(df_cancer[i_B][['smoothness_mean','compactness_mean']].mean(axis=0).values))\n",
    "print('[Smoothness, compactness] Mean for malignant: ' + str(df_cancer[i_M][['smoothness_mean','compactness_mean']].mean(axis=0).values))\n",
    "print('[Smoothness, compactness] Median for benign: ' + str(df_cancer[i_B][['smoothness_mean','compactness_mean']].median(axis=0).values))\n",
    "print('[Smoothness, compactness] Median for malignant: ' + str(df_cancer[i_M][['smoothness_mean','compactness_mean']].median(axis=0).values))"
   ]
  },
  {
   "cell_type": "markdown",
   "metadata": {},
   "source": [
    "Hypothesis testing for mean and median are usually done using t-test and ranksum test. If p value < 0.05, then we have sufficient evidence to say that they are different."
   ]
  },
  {
   "cell_type": "code",
   "execution_count": 8,
   "metadata": {},
   "outputs": [
    {
     "name": "stdout",
     "output_type": "stream",
     "text": [
      "['Differ in smoothness mean: True']\n",
      "['Differ in compactness mean: True']\n",
      "['Differ in smoothness median: True']\n",
      "['Differ in compactness median: True']\n"
     ]
    }
   ],
   "source": [
    "#We can test this null hypothesis that mean and median do not differ using t-test and rank-sum test respectively.\n",
    "print([str(\"Differ in smoothness mean: \")+str(ttest_ind(c_smooth[i_M],c_smooth[i_B]).pvalue<0.05)])\n",
    "print([str(\"Differ in compactness mean: \")+str(ttest_ind(c_compact[i_M],c_compact[i_B]).pvalue<0.05)])\n",
    "\n",
    "print([str(\"Differ in smoothness median: \")+str(ranksums(c_smooth[i_M],c_smooth[i_B]).pvalue<0.05)])\n",
    "print([str(\"Differ in compactness median: \")+str(ranksums(c_compact[i_M],c_compact[i_B]).pvalue<0.05)])"
   ]
  },
  {
   "cell_type": "markdown",
   "metadata": {},
   "source": [
    "### Write a function to generate bootstrap samples of the data.\n",
    "\n",
    "Bootstrap function is usually used as a non-parametric estimation of dispersion, and is usually coupled with a function of interest (e.g., mean, median, or more complicated functions like survival rate).\n",
    "\n",
    "The boot function below takes the following inputs:\n",
    "- x is the input data\n",
    "- boot_func defines the function of interest\n",
    "- nboot is the number of bootstrapped samples (with replacement) - rule of thumb nboot=10,000 or greater\n",
    "\n"
   ]
  },
  {
   "cell_type": "code",
   "execution_count": 9,
   "metadata": {},
   "outputs": [],
   "source": [
    "#Bootstrap function\n",
    "def boot(x,nboot,boot_func=[]):\n",
    "    \"\"\" This function takes a variable x, \n",
    "    sample it with replacement nboot times, \n",
    "    and return the calcuations defined by boot_func for each nboot sample. \n",
    "    \"\"\"\n",
    "    if callable(boot_func):\n",
    "        boot_x = np.repeat(np.nan,nboot) #This step speed up the loop by predefining size of vector\n",
    "        for i in range(nboot):\n",
    "            xs = np.random.choice(x,len(x),replace=True)\n",
    "            boot_x[i] = boot_func(xs)\n",
    "    else:\n",
    "        boot_x = [np.random.choice(x,len(x),replace=True) for i in range(nboot)]\n",
    "    return boot_x"
   ]
  },
  {
   "cell_type": "markdown",
   "metadata": {},
   "source": [
    "Boostrap demo: generating the SE of mean for c_smooth using bootstrap"
   ]
  },
  {
   "cell_type": "code",
   "execution_count": 10,
   "metadata": {},
   "outputs": [
    {
     "name": "stdout",
     "output_type": "stream",
     "text": [
      "['SE of mean: [2.64563683 2.9125903 ]']\n"
     ]
    }
   ],
   "source": [
    "diff_x_boot = boot(x=c_smooth,nboot=10000,boot_func=np.mean)\n",
    "SE95 = np.percentile(diff_x_boot,[2.5,97.5])\n",
    "print([str('SE of mean: ')+str(SE95)])"
   ]
  },
  {
   "cell_type": "markdown",
   "metadata": {},
   "source": [
    "## ii) Exploratory Analysis"
   ]
  },
  {
   "cell_type": "markdown",
   "metadata": {},
   "source": [
    "### Identify 2-3 variables that are predictive of a malignant tumor.\n",
    "\n",
    "To quickly identify variables of interest for this exercise, I used univariate SelectKBest function to rank features using classical ANOVA (f_classif)."
   ]
  },
  {
   "cell_type": "code",
   "execution_count": 12,
   "metadata": {},
   "outputs": [],
   "source": [
    "#Separate the independent and dependent variables\n",
    "y = df_cancer['diagnosis']\n",
    "x = df_cancer.drop(['diagnosis','ID'],axis=1)"
   ]
  },
  {
   "cell_type": "code",
   "execution_count": 13,
   "metadata": {},
   "outputs": [],
   "source": [
    "#Using SelectKBest to identify top 3 variables that have predictive power\n",
    "selector = SelectKBest(f_classif, k=3)\n",
    "selector.fit(x,y)\n",
    "x_index = selector.get_support(indices=True)\n",
    "x_kbest = x.iloc[:,x_index]"
   ]
  },
  {
   "cell_type": "markdown",
   "metadata": {},
   "source": [
    "### Display the relationship visually and write 1-2 sentences explaining the relationship.\n",
    "\n",
    "Because this is a univariate analysis, features that are ranked highest can sometimes be highly correlated. In fact, this is the case, as seen by the correlation matrix."
   ]
  },
  {
   "cell_type": "code",
   "execution_count": 14,
   "metadata": {},
   "outputs": [
    {
     "data": {
      "text/html": [
       "<div>\n",
       "<style scoped>\n",
       "    .dataframe tbody tr th:only-of-type {\n",
       "        vertical-align: middle;\n",
       "    }\n",
       "\n",
       "    .dataframe tbody tr th {\n",
       "        vertical-align: top;\n",
       "    }\n",
       "\n",
       "    .dataframe thead th {\n",
       "        text-align: right;\n",
       "    }\n",
       "</style>\n",
       "<table border=\"1\" class=\"dataframe\">\n",
       "  <thead>\n",
       "    <tr style=\"text-align: right;\">\n",
       "      <th></th>\n",
       "      <th>perimeter_sd_error</th>\n",
       "      <th>concave_points_sd_error</th>\n",
       "      <th>fractal_dimension_mean</th>\n",
       "    </tr>\n",
       "    <tr>\n",
       "      <th>0</th>\n",
       "      <th></th>\n",
       "      <th></th>\n",
       "      <th></th>\n",
       "    </tr>\n",
       "  </thead>\n",
       "  <tbody>\n",
       "    <tr>\n",
       "      <th>perimeter_sd_error</th>\n",
       "      <td>1.000000</td>\n",
       "      <td>0.846228</td>\n",
       "      <td>0.910467</td>\n",
       "    </tr>\n",
       "    <tr>\n",
       "      <th>concave_points_sd_error</th>\n",
       "      <td>0.846228</td>\n",
       "      <td>1.000000</td>\n",
       "      <td>0.818455</td>\n",
       "    </tr>\n",
       "    <tr>\n",
       "      <th>fractal_dimension_mean</th>\n",
       "      <td>0.910467</td>\n",
       "      <td>0.818455</td>\n",
       "      <td>1.000000</td>\n",
       "    </tr>\n",
       "  </tbody>\n",
       "</table>\n",
       "</div>"
      ],
      "text/plain": [
       "0                        perimeter_sd_error  concave_points_sd_error  \\\n",
       "0                                                                      \n",
       "perimeter_sd_error                 1.000000                 0.846228   \n",
       "concave_points_sd_error            0.846228                 1.000000   \n",
       "fractal_dimension_mean             0.910467                 0.818455   \n",
       "\n",
       "0                        fractal_dimension_mean  \n",
       "0                                                \n",
       "perimeter_sd_error                     0.910467  \n",
       "concave_points_sd_error                0.818455  \n",
       "fractal_dimension_mean                 1.000000  "
      ]
     },
     "execution_count": 14,
     "metadata": {},
     "output_type": "execute_result"
    }
   ],
   "source": [
    "x_kbest.corr()"
   ]
  },
  {
   "cell_type": "markdown",
   "metadata": {},
   "source": [
    "The top 3 variables are plotted, with different colors to separate cases that are malignant vs benign. In the pair plots, you can see how the variables are correlated, with malignant vs benign separated along the diagonals.\n",
    "\n",
    "Since variables that are highly correlated often convey similar information, in the modelling section that follows, perhaps we can use PCA to create a set of features."
   ]
  },
  {
   "cell_type": "code",
   "execution_count": 15,
   "metadata": {},
   "outputs": [
    {
     "data": {
      "text/plain": [
       "<seaborn.axisgrid.PairGrid at 0x15e261bf438>"
      ]
     },
     "execution_count": 15,
     "metadata": {},
     "output_type": "execute_result"
    },
    {
     "data": {
      "image/png": "[encoded data removed]",
      "text/plain": [
       "<Figure size 595.5x540 with 12 Axes>"
      ]
     },
     "metadata": {
      "needs_background": "light"
     },
     "output_type": "display_data"
    }
   ],
   "source": [
    "sns.pairplot(df_cancer,hue='diagnosis',vars=x_kbest.columns)"
   ]
  },
  {
   "cell_type": "markdown",
   "metadata": {},
   "source": [
    "## iii) Modeling"
   ]
  },
  {
   "cell_type": "markdown",
   "metadata": {},
   "source": [
    "### Build a model to predict the malignant tumors.\n",
    "\n",
    "We will use two classification techniques, logistic regression and random forest. The two techniques not only differ in their methodology, they also differ in \"culture\" as stated by Leo Breiman (see Statistical Modeling: The Two Cultures).\n",
    "\n",
    "A bit of historical and philosophical side note:\n",
    "\n",
    "The traditional way, like logistic regression, emphasize on having a correct understanding of how the data enables prediction - a lot of parametric assumptions are used, such as whether the process is Poisson and i.i.d. etc. While the \"modern\" approach like random forest focuses mainly on finding the optimal hyperparameters to minize cross-validation error.\n",
    "\n",
    "Although random forest may beat logistic regression in accuracy, this doesn't mean random forest \"correctly\" modeled reality. For instance, accurate navigation systems were developed based on a geocentric (earth centered) view even though the underlying theory is incorrect. \n",
    "\n",
    "We see a lot of this in image recognition, where a well-trained machine learning model gets thrown off by placing a piece of paper on the screen - and hence why there is a need for GAN models."
   ]
  },
  {
   "cell_type": "markdown",
   "metadata": {},
   "source": [
    "#### Splitting tesing set from training set, so that we can evaluate the performance of each model"
   ]
  },
  {
   "cell_type": "code",
   "execution_count": 16,
   "metadata": {},
   "outputs": [],
   "source": [
    "X_train, X_test, Y_train, Y_test = train_test_split(x, y, test_size=0.2)"
   ]
  },
  {
   "cell_type": "markdown",
   "metadata": {},
   "source": [
    "### Technique 1: Classifical Logistic Regression"
   ]
  },
  {
   "cell_type": "markdown",
   "metadata": {},
   "source": [
    "#### Feature engineering (PCA)\n",
    "\n",
    "Due to high correlations between variables, PCA is performed to address multicollinearity. Theoretically, doing this enables us to maximize the information while reducing dimensionality and sparsity.\n",
    "\n",
    "The first 10 components form the \"elbow\" and explain 95% of the variation. Thus, the first 10 components will be used for logistic regression. "
   ]
  },
  {
   "cell_type": "code",
   "execution_count": 17,
   "metadata": {},
   "outputs": [
    {
     "name": "stdout",
     "output_type": "stream",
     "text": [
      "0                           radius_mean  radius_sd_error  radius_worst  \\\n",
      "0                                                                        \n",
      "radius_mean                    1.000000         0.329248      0.996143   \n",
      "radius_sd_error                0.329248         1.000000      0.338343   \n",
      "radius_worst                   0.996143         0.338343      1.000000   \n",
      "texture_mean                   0.991308         0.337479      0.988567   \n",
      "texture_sd_error               0.210909        -0.012024      0.247277   \n",
      "texture_worst                  0.515040         0.227337      0.562299   \n",
      "perimeter_mean                 0.665260         0.303921      0.704282   \n",
      "perimeter_sd_error             0.814698         0.291787      0.844670   \n",
      "perimeter_worst                0.156120         0.093717      0.189829   \n",
      "area_mean                     -0.256216        -0.049496     -0.209412   \n",
      "area_sd_error                  0.684559         0.299300      0.693384   \n",
      "area_worst                    -0.125980         0.389814     -0.115541   \n",
      "smoothness_mean                0.681386         0.313068      0.696774   \n",
      "smoothness_sd_error            0.810757         0.309157      0.816123   \n",
      "smoothness_worst              -0.291948         0.006783     -0.274041   \n",
      "compactness_mean               0.219732         0.202922      0.267729   \n",
      "compactness_sd_error           0.301842         0.213039      0.346120   \n",
      "compactness_worst              0.437587         0.173341      0.472932   \n",
      "concavity_mean                -0.206389         0.006125     -0.191519   \n",
      "concavity_sd_error             0.033121         0.103469      0.068187   \n",
      "concavity_worst                0.972582         0.339893      0.971778   \n",
      "concave_points_mean            0.289636         0.905567      0.299458   \n",
      "concave_points_sd_error        0.969192         0.349726      0.973714   \n",
      "concave_points_worst           0.954654         0.337004      0.953495   \n",
      "symmetry_mean                  0.167880         0.041190      0.196234   \n",
      "symmetry_sd_error              0.465088         0.220662      0.507329   \n",
      "symmetry_worst                 0.553081         0.275936      0.590349   \n",
      "fractal_dimension_mean         0.750373         0.272375      0.779375   \n",
      "fractal_dimension_sd_error     0.196695         0.075610      0.217818   \n",
      "fractal_dimension_worst        0.072082         0.080303      0.115320   \n",
      "\n",
      "0                           texture_mean  texture_sd_error  texture_worst  \\\n",
      "0                                                                           \n",
      "radius_mean                     0.991308          0.210909       0.515040   \n",
      "radius_sd_error                 0.337479         -0.012024       0.227337   \n",
      "radius_worst                    0.988567          0.247277       0.562299   \n",
      "texture_mean                    1.000000          0.218168       0.508224   \n",
      "texture_sd_error                0.218168          1.000000       0.653265   \n",
      "texture_worst                   0.508224          0.653265       1.000000   \n",
      "perimeter_mean                  0.670086          0.523688       0.883479   \n",
      "perimeter_sd_error              0.818204          0.567890       0.823951   \n",
      "perimeter_worst                 0.164749          0.528152       0.539923   \n",
      "area_mean                      -0.240145          0.552600       0.541796   \n",
      "area_sd_error                   0.722462          0.323018       0.498414   \n",
      "area_worst                     -0.095502          0.089798       0.018989   \n",
      "smoothness_mean                 0.715471          0.328595       0.557289   \n",
      "smoothness_sd_error             0.843321          0.308898       0.530693   \n",
      "smoothness_worst               -0.240943          0.312844       0.084428   \n",
      "compactness_mean                0.222621          0.333642       0.751277   \n",
      "compactness_sd_error            0.309400          0.310088       0.707656   \n",
      "compactness_worst               0.435477          0.399174       0.703744   \n",
      "concavity_mean                 -0.177352          0.115959       0.075199   \n",
      "concavity_sd_error              0.046603          0.358689       0.587554   \n",
      "concavity_worst                 0.974518          0.255721       0.536833   \n",
      "concave_points_mean             0.291795          0.041104       0.220651   \n",
      "concave_points_sd_error         0.970053          0.284351       0.592311   \n",
      "concave_points_worst            0.970635          0.259722       0.528625   \n",
      "symmetry_mean                   0.177090          0.783335       0.545438   \n",
      "symmetry_sd_error               0.451828          0.479126       0.850178   \n",
      "symmetry_worst                  0.546836          0.450746       0.826385   \n",
      "fractal_dimension_mean          0.741188          0.519195       0.820501   \n",
      "fractal_dimension_sd_error      0.186334          0.398901       0.429933   \n",
      "fractal_dimension_worst         0.073673          0.459390       0.653208   \n",
      "\n",
      "0                           perimeter_mean  perimeter_sd_error  \\\n",
      "0                                                                \n",
      "radius_mean                       0.665260            0.814698   \n",
      "radius_sd_error                   0.303921            0.291787   \n",
      "radius_worst                      0.704282            0.844670   \n",
      "texture_mean                      0.670086            0.818204   \n",
      "texture_sd_error                  0.523688            0.567890   \n",
      "texture_worst                     0.883479            0.823951   \n",
      "perimeter_mean                    1.000000            0.913157   \n",
      "perimeter_sd_error                0.913157            1.000000   \n",
      "perimeter_worst                   0.450799            0.440596   \n",
      "area_mean                         0.338615            0.189141   \n",
      "area_sd_error                     0.607528            0.711002   \n",
      "area_worst                        0.024978           -0.006809   \n",
      "smoothness_mean                   0.656773            0.738468   \n",
      "smoothness_sd_error               0.665979            0.779928   \n",
      "smoothness_worst                  0.038263           -0.015499   \n",
      "compactness_mean                  0.669990            0.516168   \n",
      "compactness_sd_error              0.714233            0.554746   \n",
      "compactness_worst                 0.708998            0.674155   \n",
      "concavity_mean                    0.013584           -0.031797   \n",
      "concavity_sd_error                0.485211            0.344642   \n",
      "concavity_worst                   0.683870            0.825434   \n",
      "concave_points_mean               0.287146            0.273628   \n",
      "concave_points_sd_error           0.726989            0.854452   \n",
      "concave_points_worst              0.683121            0.819210   \n",
      "symmetry_mean                     0.457928            0.461170   \n",
      "symmetry_sd_error                 0.771978            0.689367   \n",
      "symmetry_worst                    0.854424            0.767260   \n",
      "fractal_dimension_mean            0.868997            0.910952   \n",
      "fractal_dimension_sd_error        0.361161            0.361125   \n",
      "fractal_dimension_worst           0.509340            0.395234   \n",
      "\n",
      "0                           perimeter_worst  area_mean  ...  concavity_worst  \\\n",
      "0                                                       ...                    \n",
      "radius_mean                        0.156120  -0.256216  ...         0.972582   \n",
      "radius_sd_error                    0.093717  -0.049496  ...         0.339893   \n",
      "radius_worst                       0.189829  -0.209412  ...         0.971778   \n",
      "texture_mean                       0.164749  -0.240145  ...         0.974518   \n",
      "texture_sd_error                   0.528152   0.552600  ...         0.255721   \n",
      "texture_worst                      0.539923   0.541796  ...         0.536833   \n",
      "perimeter_mean                     0.450799   0.338615  ...         0.683870   \n",
      "perimeter_sd_error                 0.440596   0.189141  ...         0.825434   \n",
      "perimeter_worst                    1.000000   0.409604  ...         0.192781   \n",
      "area_mean                          0.409604   1.000000  ...        -0.205937   \n",
      "area_sd_error                      0.303838   0.023878  ...         0.740566   \n",
      "area_worst                         0.127451   0.153981  ...        -0.124540   \n",
      "smoothness_mean                    0.305699   0.074624  ...         0.725432   \n",
      "smoothness_sd_error                0.271803  -0.037558  ...         0.853768   \n",
      "smoothness_worst                   0.219980   0.384410  ...        -0.270531   \n",
      "compactness_mean                   0.375547   0.519147  ...         0.223857   \n",
      "compactness_sd_error               0.348726   0.436145  ...         0.296636   \n",
      "compactness_worst                  0.346736   0.290948  ...         0.418865   \n",
      "concavity_mean                     0.321602   0.286931  ...        -0.227408   \n",
      "concavity_sd_error                 0.345490   0.641070  ...         0.046486   \n",
      "concavity_worst                    0.192781  -0.205937  ...         1.000000   \n",
      "concave_points_mean                0.106056  -0.015095  ...         0.329180   \n",
      "concave_points_sd_error            0.226004  -0.149789  ...         0.992985   \n",
      "concave_points_worst               0.196653  -0.185049  ...         0.991127   \n",
      "symmetry_mean                      0.402426   0.490058  ...         0.253916   \n",
      "symmetry_sd_error                  0.429291   0.450964  ...         0.516419   \n",
      "symmetry_worst                     0.426765   0.340388  ...         0.597245   \n",
      "fractal_dimension_mean             0.419854   0.196053  ...         0.786623   \n",
      "fractal_dimension_sd_error         0.643456   0.299657  ...         0.260029   \n",
      "fractal_dimension_worst            0.381465   0.684862  ...         0.145986   \n",
      "\n",
      "0                           concave_points_mean  concave_points_sd_error  \\\n",
      "0                                                                          \n",
      "radius_mean                            0.289636                 0.969192   \n",
      "radius_sd_error                        0.905567                 0.349726   \n",
      "radius_worst                           0.299458                 0.973714   \n",
      "texture_mean                           0.291795                 0.970053   \n",
      "texture_sd_error                       0.041104                 0.284351   \n",
      "texture_worst                          0.220651                 0.592311   \n",
      "perimeter_mean                         0.287146                 0.726989   \n",
      "perimeter_sd_error                     0.273628                 0.854452   \n",
      "perimeter_worst                        0.106056                 0.226004   \n",
      "area_mean                             -0.015095                -0.149789   \n",
      "area_sd_error                          0.204730                 0.740503   \n",
      "area_worst                             0.433868                -0.120038   \n",
      "smoothness_mean                        0.215677                 0.746636   \n",
      "smoothness_sd_error                    0.238923                 0.855611   \n",
      "smoothness_worst                      -0.058558                -0.261122   \n",
      "compactness_mean                       0.137595                 0.284752   \n",
      "compactness_sd_error                   0.163700                 0.350682   \n",
      "compactness_worst                      0.099083                 0.459302   \n",
      "concavity_mean                        -0.107741                -0.209788   \n",
      "concavity_sd_error                     0.063305                 0.094076   \n",
      "concavity_worst                        0.329180                 0.992985   \n",
      "concave_points_mean                    1.000000                 0.337833   \n",
      "concave_points_sd_error                0.337833                 1.000000   \n",
      "concave_points_worst                   0.319486                 0.983572   \n",
      "symmetry_mean                          0.169487                 0.275048   \n",
      "symmetry_sd_error                      0.269463                 0.573110   \n",
      "symmetry_worst                         0.327514                 0.640116   \n",
      "fractal_dimension_mean                 0.323950                 0.818754   \n",
      "fractal_dimension_sd_error             0.188784                 0.284828   \n",
      "fractal_dimension_worst                0.143670                 0.193477   \n",
      "\n",
      "0                           concave_points_worst  symmetry_mean  \\\n",
      "0                                                                 \n",
      "radius_mean                             0.954654       0.167880   \n",
      "radius_sd_error                         0.337004       0.041190   \n",
      "radius_worst                            0.953495       0.196234   \n",
      "texture_mean                            0.970635       0.177090   \n",
      "texture_sd_error                        0.259722       0.783335   \n",
      "texture_worst                           0.528625       0.545438   \n",
      "perimeter_mean                          0.683121       0.457928   \n",
      "perimeter_sd_error                      0.819210       0.461170   \n",
      "perimeter_worst                         0.196653       0.402426   \n",
      "area_mean                              -0.185049       0.490058   \n",
      "area_sd_error                           0.764150       0.170118   \n",
      "area_worst                             -0.097884      -0.053161   \n",
      "smoothness_mean                         0.745200       0.164815   \n",
      "smoothness_sd_error                     0.876993       0.200075   \n",
      "smoothness_worst                       -0.223529       0.334676   \n",
      "compactness_mean                        0.225508       0.242499   \n",
      "compactness_sd_error                    0.298986       0.235842   \n",
      "compactness_worst                       0.411639       0.244472   \n",
      "concavity_mean                         -0.195603      -0.097748   \n",
      "concavity_sd_error                      0.063243       0.292046   \n",
      "concavity_worst                         0.991127       0.253916   \n",
      "concave_points_mean                     0.319486       0.169487   \n",
      "concave_points_sd_error                 0.983572       0.275048   \n",
      "concave_points_worst                    1.000000       0.258712   \n",
      "symmetry_mean                           0.258712       1.000000   \n",
      "symmetry_sd_error                       0.503028       0.558932   \n",
      "symmetry_worst                          0.585779       0.519091   \n",
      "fractal_dimension_mean                  0.768085       0.541301   \n",
      "fractal_dimension_sd_error              0.248063       0.496376   \n",
      "fractal_dimension_worst                 0.148396       0.567882   \n",
      "\n",
      "0                           symmetry_sd_error  symmetry_worst  \\\n",
      "0                                                               \n",
      "radius_mean                          0.465088        0.553081   \n",
      "radius_sd_error                      0.220662        0.275936   \n",
      "radius_worst                         0.507329        0.590349   \n",
      "texture_mean                         0.451828        0.546836   \n",
      "texture_sd_error                     0.479126        0.450746   \n",
      "texture_worst                        0.850178        0.826385   \n",
      "perimeter_mean                       0.771978        0.854424   \n",
      "perimeter_sd_error                   0.689367        0.767260   \n",
      "perimeter_worst                      0.429291        0.426765   \n",
      "area_mean                            0.450964        0.340388   \n",
      "area_sd_error                        0.346084        0.416976   \n",
      "area_worst                          -0.131566       -0.073378   \n",
      "smoothness_mean                      0.413868        0.468051   \n",
      "smoothness_sd_error                  0.413852        0.487507   \n",
      "smoothness_worst                    -0.077190       -0.075949   \n",
      "compactness_mean                     0.693034        0.650606   \n",
      "compactness_sd_error                 0.618807        0.699852   \n",
      "compactness_worst                    0.545558        0.596721   \n",
      "concavity_mean                      -0.101453       -0.141891   \n",
      "concavity_sd_error                   0.478608        0.444669   \n",
      "concavity_worst                      0.516419        0.597245   \n",
      "concave_points_mean                  0.269463        0.327514   \n",
      "concave_points_sd_error              0.573110        0.640116   \n",
      "concave_points_worst                 0.503028        0.585779   \n",
      "symmetry_mean                        0.558932        0.519091   \n",
      "symmetry_sd_error                    1.000000        0.865235   \n",
      "symmetry_worst                       0.865235        1.000000   \n",
      "fractal_dimension_mean               0.807950        0.867617   \n",
      "fractal_dimension_sd_error           0.531951        0.456170   \n",
      "fractal_dimension_worst              0.762724        0.625948   \n",
      "\n",
      "0                           fractal_dimension_mean  \\\n",
      "0                                                    \n",
      "radius_mean                               0.750373   \n",
      "radius_sd_error                           0.272375   \n",
      "radius_worst                              0.779375   \n",
      "texture_mean                              0.741188   \n",
      "texture_sd_error                          0.519195   \n",
      "texture_worst                             0.820501   \n",
      "perimeter_mean                            0.868997   \n",
      "perimeter_sd_error                        0.910952   \n",
      "perimeter_worst                           0.419854   \n",
      "area_mean                                 0.196053   \n",
      "area_sd_error                             0.554264   \n",
      "area_worst                               -0.122506   \n",
      "smoothness_mean                           0.593120   \n",
      "smoothness_sd_error                       0.649803   \n",
      "smoothness_worst                         -0.128116   \n",
      "compactness_mean                          0.524928   \n",
      "compactness_sd_error                      0.553162   \n",
      "compactness_worst                         0.664701   \n",
      "concavity_mean                           -0.175872   \n",
      "concavity_sd_error                        0.319580   \n",
      "concavity_worst                           0.786623   \n",
      "concave_points_mean                       0.323950   \n",
      "concave_points_sd_error                   0.818754   \n",
      "concave_points_worst                      0.768085   \n",
      "symmetry_mean                             0.541301   \n",
      "symmetry_sd_error                         0.807950   \n",
      "symmetry_worst                            0.867617   \n",
      "fractal_dimension_mean                    1.000000   \n",
      "fractal_dimension_sd_error                0.472062   \n",
      "fractal_dimension_worst                   0.501652   \n",
      "\n",
      "0                           fractal_dimension_sd_error  \\\n",
      "0                                                        \n",
      "radius_mean                                   0.196695   \n",
      "radius_sd_error                               0.075610   \n",
      "radius_worst                                  0.217818   \n",
      "texture_mean                                  0.186334   \n",
      "texture_sd_error                              0.398901   \n",
      "texture_worst                                 0.429933   \n",
      "perimeter_mean                                0.361161   \n",
      "perimeter_sd_error                            0.361125   \n",
      "perimeter_worst                               0.643456   \n",
      "area_mean                                     0.299657   \n",
      "area_sd_error                                 0.100705   \n",
      "area_worst                                   -0.188787   \n",
      "smoothness_mean                               0.108209   \n",
      "smoothness_sd_error                           0.151773   \n",
      "smoothness_worst                             -0.094462   \n",
      "compactness_mean                              0.183434   \n",
      "compactness_sd_error                          0.144217   \n",
      "compactness_worst                             0.109114   \n",
      "concavity_mean                                0.173846   \n",
      "concavity_sd_error                            0.136062   \n",
      "concavity_worst                               0.260029   \n",
      "concave_points_mean                           0.188784   \n",
      "concave_points_sd_error                       0.284828   \n",
      "concave_points_worst                          0.248063   \n",
      "symmetry_mean                                 0.496376   \n",
      "symmetry_sd_error                             0.531951   \n",
      "symmetry_worst                                0.456170   \n",
      "fractal_dimension_mean                        0.472062   \n",
      "fractal_dimension_sd_error                    1.000000   \n",
      "fractal_dimension_worst                       0.472520   \n",
      "\n",
      "0                           fractal_dimension_worst  \n",
      "0                                                    \n",
      "radius_mean                                0.072082  \n",
      "radius_sd_error                            0.080303  \n",
      "radius_worst                               0.115320  \n",
      "texture_mean                               0.073673  \n",
      "texture_sd_error                           0.459390  \n",
      "texture_worst                              0.653208  \n",
      "perimeter_mean                             0.509340  \n",
      "perimeter_sd_error                         0.395234  \n",
      "perimeter_worst                            0.381465  \n",
      "area_mean                                  0.684862  \n",
      "area_sd_error                              0.116323  \n",
      "area_worst                                -0.075814  \n",
      "smoothness_mean                            0.161271  \n",
      "smoothness_sd_error                        0.118630  \n",
      "smoothness_worst                           0.094089  \n",
      "compactness_mean                           0.585098  \n",
      "compactness_sd_error                       0.451415  \n",
      "compactness_worst                          0.337538  \n",
      "concavity_mean                            -0.009687  \n",
      "concavity_sd_error                         0.615329  \n",
      "concavity_worst                            0.145986  \n",
      "concave_points_mean                        0.143670  \n",
      "concave_points_sd_error                    0.193477  \n",
      "concave_points_worst                       0.148396  \n",
      "symmetry_mean                              0.567882  \n",
      "symmetry_sd_error                          0.762724  \n",
      "symmetry_worst                             0.625948  \n",
      "fractal_dimension_mean                     0.501652  \n",
      "fractal_dimension_sd_error                 0.472520  \n",
      "fractal_dimension_worst                    1.000000  \n",
      "\n",
      "[30 rows x 30 columns]\n"
     ]
    }
   ],
   "source": [
    "print(X_train.corr()) \n",
    "\n",
    "#PCA transform the x feature matrixes into orthogonal components\n",
    "pca = decomposition.PCA()\n",
    "x_train_Scaled = X_train.apply(lambda x: scaler(x))\n",
    "x_train_scaled_pca = pca.fit_transform(x_train_Scaled)\n",
    "x_test_Scaled = X_test.apply(lambda x: scaler(x))\n",
    "x_test_scaled_pca = pca.fit_transform(x_test_Scaled)"
   ]
  },
  {
   "cell_type": "code",
   "execution_count": 18,
   "metadata": {},
   "outputs": [
    {
     "name": "stdout",
     "output_type": "stream",
     "text": [
      "['% of variable explained by first 10 PC: 0.9405822830962658']\n"
     ]
    },
    {
     "data": {
      "image/png": "[encoded data removed]",
      "text/plain": [
       "<Figure size 432x288 with 1 Axes>"
      ]
     },
     "metadata": {
      "needs_background": "light"
     },
     "output_type": "display_data"
    }
   ],
   "source": [
    "#Determine the number of principle components to include\n",
    "plt.plot(pca.fit(x_train_Scaled).explained_variance_ratio_)\n",
    "print(['% of variable explained by first 10 PC: '+str(np.sum(pca.fit(x_train_Scaled).explained_variance_ratio_[0:10]))])"
   ]
  },
  {
   "cell_type": "markdown",
   "metadata": {},
   "source": [
    "#### Fitting logistic regression with regularization to control for overfitting\n",
    "\n",
    "A straight out fitting is not ideal because there is a chance that the model might overfit. In other words, the pattern that the function captures might not generalize, and therefore generating high error rate in the testing set.\n",
    "\n",
    "One way to address this is to use regularization to penalize the betas in order to reduce cross-validation error. In this demo, I picked l2 regularization and tuned the hyperparameters using 10 fold cross validation."
   ]
  },
  {
   "cell_type": "code",
   "execution_count": 19,
   "metadata": {},
   "outputs": [],
   "source": [
    "LogReg2 = LogisticRegressionCV(solver='saga',max_iter=4000,penalty='l2',cv=10).fit(x_train_scaled_pca[:,0:10],Y_train)"
   ]
  },
  {
   "cell_type": "markdown",
   "metadata": {},
   "source": [
    "#### Feature importance\n",
    "\n",
    "The magnitude of coefficient measures the unit change in probability of having cancer, and could be used to rank the importance of the PCA components used as predictors. However, to rank the importance of individual 30 variables that makes up each PCA component, we have to also consider the PCA loadings. \n",
    "\n",
    "Here, the first two principal components are the most important - no surprise here. Within the first PCA component, 'fractal_dimension_sd_error' appears to be the most important variable."
   ]
  },
  {
   "cell_type": "code",
   "execution_count": 20,
   "metadata": {},
   "outputs": [
    {
     "name": "stdout",
     "output_type": "stream",
     "text": [
      "[[1.90483813 0.87710324 0.21019663 0.70472804 0.74795835 0.44474781\n",
      "  0.1371806  0.08166937 0.34005723 0.47472698]]\n",
      "Index(['fractal_dimension_sd_error'], dtype='object', name=0)\n"
     ]
    }
   ],
   "source": [
    "#The first two principle components has the highest |coef|\n",
    "print(abs(LogReg2.coef_))\n",
    "\n",
    "#Of the variables that goes into the first compoents, fractal_dimension_worst appears to be most important\n",
    "i_features_PC1 = abs(pca.components_[:,0:1] * np.sqrt(pca.explained_variance_[0:1])).argmax(axis=0)\n",
    "print(X_train.columns[i_features_PC1])"
   ]
  },
  {
   "cell_type": "markdown",
   "metadata": {},
   "source": [
    "To rank the importance for individual 30 variables, we can combine the coefficient magnitude AND the PCA loadings. This works because both logistic regression and PCA are both linear transformations.\n",
    "    \n",
    "Here, we see that the top 3 variables are: fractal_dimension_sd_error, fractal_dimension_worst, concavity_worst"
   ]
  },
  {
   "cell_type": "code",
   "execution_count": 22,
   "metadata": {},
   "outputs": [
    {
     "data": {
      "text/plain": [
       "Index(['concavity_worst', 'fractal_dimension_worst',\n",
       "       'fractal_dimension_sd_error'],\n",
       "      dtype='object', name=0)"
      ]
     },
     "execution_count": 22,
     "metadata": {},
     "output_type": "execute_result"
    }
   ],
   "source": [
    "#Compute and rank the 30 variables in order of their importance\n",
    "score_x_features = np.sum(abs(pca.components_[:,0:10] * np.sqrt(pca.explained_variance_[0:10])*LogReg2.coef_),axis=1)\n",
    "i_features = score_x_features.argsort(axis=0)[-3:]\n",
    "\n",
    "#Extract the top three features\n",
    "X_train.columns[i_features]"
   ]
  },
  {
   "cell_type": "markdown",
   "metadata": {},
   "source": [
    "#### Model performance evaluate\n",
    "\n",
    "A common way to evaluate classification models is by looking at the accuracy score and the confusion matrix.\n",
    "\n",
    "While accuracy score provides a nice one-number summary, where the model with higher accuracy is better, the confusion matrix provides more insight.\n",
    "\n",
    "Below is the definition of the outputs by the confusion matrix, taken from https://www.dataschool.io/simple-guide-to-confusion-matrix-terminology/:\n",
    "\n",
    "- true positives (TP): Cases that are correctly predicted to have disease.\n",
    "- true negatives (TN): Cases that are correctly predicted to have no disease.\n",
    "- false positives (FP): We predicted yes, but they don't actually have the disease.\n",
    "- false negatives (FN): We predicted no, but they actually do have the disease.\n"
   ]
  },
  {
   "cell_type": "code",
   "execution_count": 23,
   "metadata": {},
   "outputs": [
    {
     "name": "stdout",
     "output_type": "stream",
     "text": [
      "['tn, fp, fn, tp: [66  2  1 45]']\n",
      "['accuracy for testing set: 0.9736842105263158']\n"
     ]
    }
   ],
   "source": [
    "c_matrix_log = confusion_matrix(LogReg2.predict(x_test_scaled_pca[:,0:10]),Y_test)\n",
    "a_score_log = accuracy_score(LogReg2.predict(x_test_scaled_pca[:,0:10]),Y_test)\n",
    "\n",
    "print(['tn, fp, fn, tp: '+str(c_matrix_log.ravel())])\n",
    "print(['accuracy for testing set: '+str(a_score_log)])"
   ]
  },
  {
   "cell_type": "markdown",
   "metadata": {},
   "source": [
    "### Technique 2: Random forest\n"
   ]
  },
  {
   "cell_type": "markdown",
   "metadata": {},
   "source": [
    "#### Hyperparameter tuning using gridsearch\n",
    "\n",
    "Compare to logistic regression, random forest has more hyperparameters to tune and thus requires more resources/time to train. \n",
    "\n",
    "These hyperparameters also provide the model with more flexibility, and thus we don't need to worry as much about feature engineering. Plus, it is a non-linear decision tree model and thus could handle the multicollinearity issue better than the linear logistic approach. \n",
    "\n",
    "Hence we aren't going to focus too much on feature engineering, but rather let's spend time on hyperparameter tunning using gridsearch and cross-validation."
   ]
  },
  {
   "cell_type": "code",
   "execution_count": 24,
   "metadata": {},
   "outputs": [
    {
     "name": "stdout",
     "output_type": "stream",
     "text": [
      "{'max_depth': 10, 'max_features': 'auto', 'n_estimators': 100}\n"
     ]
    }
   ],
   "source": [
    "#Initialize the hyperparameters to try, and using 5-fold cross-validation to find the most optimial combinations.\n",
    "#Due to time constrain, we only look at a selective set of possible hyperparameters\n",
    "param_grid = { 'n_estimators': [100, 500, 900],\n",
    "              'max_features': ['auto', 'sqrt'],\n",
    "              'max_depth': [10, 50, 100, None],}\n",
    "rfc=RandomForestClassifier(random_state=0)\n",
    "CV_rfc = GridSearchCV(estimator=rfc, param_grid=param_grid, cv= 5)\n",
    "CV_rfc.fit(X_train, Y_train)\n",
    "\n",
    "#Display the best parameters\n",
    "print(CV_rfc.best_params_)"
   ]
  },
  {
   "cell_type": "markdown",
   "metadata": {},
   "source": [
    "#### Random forest decision tree fitting\n",
    "\n",
    "Once we found our optimal hyperparameters, we can then input them into our random forest algorithm and construct our model. \n",
    "\n",
    "Briefly, random forest works by building many many decision trees (n_estimators determines the number of trees). Each tree is trained on a slightly different set of data, and each tree would \"vote\" on whether the tumor is malignant or not. In the end, the cancer class is classified based on the majority's pick."
   ]
  },
  {
   "cell_type": "code",
   "execution_count": 25,
   "metadata": {},
   "outputs": [
    {
     "data": {
      "text/plain": [
       "RandomForestClassifier(bootstrap=True, ccp_alpha=0.0, class_weight=None,\n",
       "                       criterion='gini', max_depth=10, max_features='auto',\n",
       "                       max_leaf_nodes=None, max_samples=None,\n",
       "                       min_impurity_decrease=0.0, min_impurity_split=None,\n",
       "                       min_samples_leaf=1, min_samples_split=2,\n",
       "                       min_weight_fraction_leaf=0.0, n_estimators=100,\n",
       "                       n_jobs=None, oob_score=False, random_state=0, verbose=0,\n",
       "                       warm_start=False)"
      ]
     },
     "execution_count": 25,
     "metadata": {},
     "output_type": "execute_result"
    }
   ],
   "source": [
    "rfc_best = RandomForestClassifier(random_state=0,n_estimators=100,max_features='auto',max_depth=10)\n",
    "rfc_best.fit(X_train, Y_train)"
   ]
  },
  {
   "cell_type": "markdown",
   "metadata": {},
   "source": [
    "#### Feature importance\n",
    "\n",
    "Because random forest models are a collection of models (i.e., ensemble method), the importance of each feature is determined by both:\n",
    "1. The frequency of that feature being selected\n",
    "2. When selected, the impact of that feature on improving the fit.\n",
    "\n",
    "Here, the top three features identified to be important under random forest are: concave_points_sd_error, fractal_dimension_mean, concavity_worst."
   ]
  },
  {
   "cell_type": "code",
   "execution_count": 26,
   "metadata": {},
   "outputs": [
    {
     "data": {
      "text/plain": [
       "Index(['concavity_worst', 'fractal_dimension_mean', 'concave_points_sd_error'], dtype='object', name=0)"
      ]
     },
     "execution_count": 26,
     "metadata": {},
     "output_type": "execute_result"
    }
   ],
   "source": [
    "i_rfc_topfs = rfc_best.feature_importances_.argsort()[-3:]\n",
    "X_train.columns[i_rfc_topfs]"
   ]
  },
  {
   "cell_type": "markdown",
   "metadata": {},
   "source": [
    "#### Model performance\n",
    "\n",
    "Using the same metrics as logistic regression, we can now compare the two models.\n",
    "\n",
    "Interestingly, both logistic and random forest produce very similar accuracy and confusion matrix score."
   ]
  },
  {
   "cell_type": "code",
   "execution_count": 27,
   "metadata": {},
   "outputs": [
    {
     "name": "stdout",
     "output_type": "stream",
     "text": [
      "['tn, fp, fn, tp: [67  4  0 43]']\n",
      "['accuracy for testing set: 0.9649122807017544']\n"
     ]
    }
   ],
   "source": [
    "#Model performance for random forest model on testing dataset\n",
    "\n",
    "c_matrix_rf = confusion_matrix(rfc_best.predict(X_test),Y_test)\n",
    "a_score_rf = accuracy_score(rfc_best.predict(X_test),Y_test)\n",
    "\n",
    "print(['tn, fp, fn, tp: '+str(c_matrix_rf.ravel())])\n",
    "print(['accuracy for testing set: '+str(a_score_rf)])"
   ]
  },
  {
   "cell_type": "code",
   "execution_count": 28,
   "metadata": {},
   "outputs": [
    {
     "name": "stdout",
     "output_type": "stream",
     "text": [
      "['tn, fp, fn, tp: [66  2  1 45]']\n",
      "['accuracy for testing set: 0.9736842105263158']\n"
     ]
    }
   ],
   "source": [
    "#Compare to the logistic model on testing dataset\n",
    "print(['tn, fp, fn, tp: '+str(c_matrix_log.ravel())])\n",
    "print(['accuracy for testing set: '+str(a_score_log)])"
   ]
  },
  {
   "cell_type": "markdown",
   "metadata": {},
   "source": [
    "## iv) Explanation"
   ]
  },
  {
   "cell_type": "markdown",
   "metadata": {},
   "source": [
    "#### Technical Audiences: Explain the limitations of your analysis and identify possible further steps you could take\n",
    "\n",
    "1. The lack of metadata and methodology\n",
    "\n",
    "Starting from the data, one of the limitations is not having a full set of metadata to help understand the features, as well as methods detailing how the variables are collected. These insights are important in forming an idea on how to engineer features, and how to interpret the results. \n",
    "\n",
    "Another concern is whether or not the sample is biased. For instance, western studies are done for patients who are predominately caucasian. Thus, the results may not generalize well to patients of different ethnicity.\n",
    "\n",
    "2. Switch to a multivariable non-parametric outlier detection method\n",
    "\n",
    "The z-score approach used to identify outliers has the following limitations:\n",
    "- This method does not consider the correlation between columns.\n",
    "- Multiple comparison problem: computing z scores independently for 30 columns increase the chance of false positives.\n",
    "- z score assumes a normal distribution and does not work well with skewed data. A non-parametric clustering approach would work better.\n",
    "\n",
    "If time allows, I would investigate using DBScan to detect outliers.\n",
    "\n",
    "3. Improve hyperparameter search space and speed using genetic algorithm\n",
    "\n",
    "Gridsearch is an exhaustive search function, and this function becomes very expensive when we start to increase the number of hyperparameters (NP-complete problem). A faster and more efficient way to solve this problem would be to apply the genetic algorithm. This type of algorithm is designed to solve these NP problems, and have shown success in studies published.\n",
    "\n",
    "Switching from gridsearch to genetic algorithm could help to improve model performance for random forest by searching for a broader set of hyperparameters.\n",
    "\n",
    "4. Power analysis to determine where we lack data\n",
    "\n",
    "My gut feeling is that with 30 different features, the data might be too sparse, and there could be improvements made by increasing sample size. Power analysis could be employed to further answer this question."
   ]
  },
  {
   "cell_type": "markdown",
   "metadata": {},
   "source": [
    "#### Non-Technical Audiences: Write a short summary of your analysis, explaining how your model works and how it performs.\n",
    "\n",
    "##### We can see that the dataset contains enough information to accurately predict whether tumors are malignant or benign.\n",
    "\n",
    "We first saw this in our exploratory analysis, where we can visually see a clear separation between malignant and benign tumors with features like fractal_dimension_mean. Using multivariant models (logistic and random forest), we are able to predict correct cases with 97% accuracy. \n",
    "\n",
    "The variable fractal_dimension kept showing up as an important feature. Under logistic regression, fractal_dimension_worst is one of the top important variables and under random forest, fractal_dimension_mean was identified as one of the top 3.\n",
    "\n",
    "A quick google search shows that fractal dimension seems to be measuring the tumor's irregular shape, and it is one of the criteria used to identify breast cancer (https://www.ncbi.nlm.nih.gov/pmc/articles/PMC6349609/). This supports our findings.\n",
    "\n",
    "\n",
    "##### Although both models gave very similar results, what's under the hood is different.\n",
    "\n",
    "The logistic model is a traditional method used for classification. Here, the model predicts the probability of tumors being malignant, and the impact of each feature in determining the probability (i.e., betas). \n",
    "\n",
    "Random forest also predicts the probability that the tumor is malignant. It does so by constructing many set of models using data set that are slightly different. The probability of a tumor being malignant is then estimated based on the percentage of votes from each model - much like an election. However, the impact of each variable is not clear. \n",
    "\n",
    "Hence why logistic model are often considered to be more interpretable, while random forest is considered to be a \"black-box\"."
   ]
  }
 ],
 "metadata": {
  "kernelspec": {
   "display_name": "Python 3",
   "language": "python",
   "name": "python3"
  },
  "language_info": {
   "codemirror_mode": {
    "name": "ipython",
    "version": 3
   },
   "file_extension": ".py",
   "mimetype": "text/x-python",
   "name": "python",
   "nbconvert_exporter": "python",
   "pygments_lexer": "ipython3",
   "version": "3.7.1"
  }
 },
 "nbformat": 4,
 "nbformat_minor": 2
}
