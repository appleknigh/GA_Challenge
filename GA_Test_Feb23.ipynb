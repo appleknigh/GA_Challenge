{
 "cells": [
  {
   "cell_type": "markdown",
   "metadata": {},
   "source": [
    "# Part 1: Modeling Challenge"
   ]
  },
  {
   "cell_type": "markdown",
   "metadata": {},
   "source": [
    "## i) Python Coding and Data Set"
   ]
  },
  {
   "cell_type": "markdown",
   "metadata": {},
   "source": [
    "### Load in the data file, load in the header file and attach it to the dataframe"
   ]
  },
  {
   "cell_type": "code",
   "execution_count": 648,
   "metadata": {},
   "outputs": [],
   "source": [
    "import os\n",
    "import copy\n",
    "\n",
    "import numpy as np\n",
    "import pandas as pd\n",
    "\n",
    "from sklearn import preprocessing\n",
    "import scipy.stats as stats\n",
    "from scipy.stats import ranksums\n",
    "from scipy.stats import ttest_ind\n",
    "from sklearn.feature_selection import SelectKBest,f_classif\n",
    "from sklearn.linear_model import LogisticRegressionCV\n",
    "from sklearn import decomposition\n",
    "from sklearn.model_selection import GridSearchCV\n",
    "from sklearn.ensemble import RandomForestClassifier\n",
    "from sklearn.model_selection import train_test_split\n",
    "from sklearn.metrics import accuracy_score, confusion_matrix\n",
    "#from sklearn.impute import KNNImputer\n",
    "\n",
    "import matplotlib.pyplot as plt\n",
    "import seaborn as sns"
   ]
  },
  {
   "cell_type": "code",
   "execution_count": 497,
   "metadata": {},
   "outputs": [],
   "source": [
    "#Changing working directory to where the input and output files are saved\n",
    "folder_path = 'C:/Users/Chen/Documents/DS Projects/DS Instructor'\n",
    "working_dir = os.chdir(folder_path)"
   ]
  },
  {
   "cell_type": "code",
   "execution_count": 498,
   "metadata": {},
   "outputs": [],
   "source": [
    "#Loading input files\n",
    "df_colhead = pd.read_csv('field_names.txt',header=None)\n",
    "df_cancer = pd.read_csv('breast-cancer.csv',header=None)\n",
    "#reassign header for df_cancer using first column values of df_colhead\n",
    "df_cancer.columns=df_colhead.iloc[:,0]"
   ]
  },
  {
   "cell_type": "markdown",
   "metadata": {},
   "source": [
    "### Comment on any steps you might take to evaluate or transform the dataset.\n",
    "\n",
    "Garbage in garbage out, so ensuring that the data is good quality is an important first step. Two common mays that may contribute to bad quality data are \n",
    "1. Missing data points. For instance, if the recording files are corrupted.\n",
    "2. Not missing but erroneous data points. Outliers are a good indication of this.\n",
    "\n",
    "Lastly, since most of the machine learning algorithms do not work well with missing data points, and so we need to impute them back.\n",
    "\n",
    "There are various ways to do it (mean, median, EM-algorithm, KNN), but the main takeaway is that the imputated dataset should still retain the same distribution as the non-imputed data."
   ]
  },
  {
   "cell_type": "code",
   "execution_count": 601,
   "metadata": {},
   "outputs": [
    {
     "name": "stdout",
     "output_type": "stream",
     "text": [
      "Is there any data that are missing:\n",
      "False\n",
      "False\n"
     ]
    }
   ],
   "source": [
    "#Check for missing data\n",
    "print('Is there any data that are missing:')\n",
    "print(str(df_cancer.isna().values.any()))\n",
    "print(str(df_cancer.isnull().values.any()))"
   ]
  },
  {
   "cell_type": "code",
   "execution_count": 585,
   "metadata": {},
   "outputs": [],
   "source": [
    "#Check for any outliers, some of which might due to bad data quality. \n",
    "#If left untreated, outliers may disporportionally attribute to model parameters and thus causing model errors.\n",
    "\n",
    "#Make a copy of the original to contrast against the dataset with outlier removed\n",
    "x_original = copy.deepcopy(df_cancer.iloc[:,2:]) \n",
    "\n",
    "#Outlier = |Z score| > 3, or 99.7% percentile under normal distribution\n",
    "scaler = preprocessing.scale\n",
    "x_scaled = abs(x.apply(lambda x: scaler(x)))\n",
    "\n",
    "#Remove outliers, and then use KNN to impute back the value using the 5 nearest rows\n",
    "df_cancer.iloc[:,2:][x_scaled>3] = np.nan\n",
    "\n",
    "imputer = KNNImputer(n_neighbors=2)\n",
    "df_cancer.iloc[:,2:] = imputer.fit_transform(df_cancer.iloc[:,2:])"
   ]
  },
  {
   "cell_type": "code",
   "execution_count": 609,
   "metadata": {},
   "outputs": [
    {
     "name": "stdout",
     "output_type": "stream",
     "text": [
      "[1.0, 1.0, 1.0, 1.0, 1.0, 1.0, 1.0, 1.0, 1.0, 1.0, 1.0, 1.0, 1.0, 1.0, 1.0, 1.0, 1.0, 1.0, 1.0, 1.0, 1.0, 1.0, 1.0, 1.0, 1.0, 1.0, 1.0, 1.0, 1.0, 1.0]\n"
     ]
    },
    {
     "data": {
      "image/png": "[encoded data removed]",
      "text/plain": [
       "<Figure size 432x288 with 1 Axes>"
      ]
     },
     "metadata": {
      "needs_background": "light"
     },
     "output_type": "display_data"
    }
   ],
   "source": [
    "#<2% in any one column are identified as outliers and removed,\n",
    "x_NOutlier = (x_scaled>3).astype(int)\n",
    "P_outlier = x_NOutlier.sum(axis=0)/x.shape[0]\n",
    "plt.title('Percentage of the column identified as outlies')\n",
    "plt.plot(P_outlier)\n",
    "plt.xlabel('')\n",
    "\n",
    "#no change in overall distribution of the columns by Kolmogorov-Smirnov test\n",
    "x_kstest = [stats.ks_2samp(x.iloc[:,1],x1.iloc[:,1]).pvalue for col in range(x.shape[1])]\n",
    "print(x_kstest)"
   ]
  },
  {
   "cell_type": "markdown",
   "metadata": {},
   "source": [
    "### Compute the mean and median smoothness and compactness for benign and malignant tumors - do they differ? Explain how you would identify this.\n",
    "\n",
    "Hypothesis testing for mean and median are usually done using t-test and ranksum test. \n",
    "\n",
    "We use unpaired test, since smoothness and compacness are measured independently for benign and malignant tumors."
   ]
  },
  {
   "cell_type": "code",
   "execution_count": 650,
   "metadata": {},
   "outputs": [
    {
     "name": "stdout",
     "output_type": "stream",
     "text": [
      "[Smoothness, compactness] Mean for benign: [2.00032129 0.02143825]\n",
      "[Smoothness, compactness] Mean for malignant: [4.32392925 0.03228117]\n",
      "[Smoothness, compactness] Median for benign: [1.851   0.01631]\n",
      "[Smoothness, compactness] Median for malignant: [3.6795  0.02859]\n"
     ]
    }
   ],
   "source": [
    "c_smooth = df_cancer.smoothness_mean\n",
    "c_compact = df_cancer.compactness_mean\n",
    "i_M = df_cancer['diagnosis']=='M'\n",
    "i_B = df_cancer['diagnosis']=='B'\n",
    "\n",
    "print('[Smoothness, compactness] Mean for benign: ' + str(df_cancer[i_B][['smoothness_mean','compactness_mean']].mean(axis=0).values))\n",
    "print('[Smoothness, compactness] Mean for malignant: ' + str(df_cancer[i_M][['smoothness_mean','compactness_mean']].mean(axis=0).values))\n",
    "print('[Smoothness, compactness] Median for benign: ' + str(df_cancer[i_B][['smoothness_mean','compactness_mean']].median(axis=0).values))\n",
    "print('[Smoothness, compactness] Median for malignant: ' + str(df_cancer[i_M][['smoothness_mean','compactness_mean']].median(axis=0).values))"
   ]
  },
  {
   "cell_type": "code",
   "execution_count": 649,
   "metadata": {},
   "outputs": [
    {
     "name": "stdout",
     "output_type": "stream",
     "text": [
      "['Differ in smoothness mean: True']\n",
      "['Differ in compactness mean: True']\n",
      "['Differ in smoothness median: True']\n",
      "['Differ in compactness median: True']\n"
     ]
    }
   ],
   "source": [
    "#We can test this null hypothesis that mean and median do not differ using t-test and rank-sum test respectively.\n",
    "print([str(\"Differ in smoothness mean: \")+str(ttest_ind(c_smooth[i_M],c_smooth[i_B]).pvalue<0.05)])\n",
    "print([str(\"Differ in compactness mean: \")+str(ttest_ind(c_compact[i_M],c_compact[i_B]).pvalue<0.05)])\n",
    "\n",
    "print([str(\"Differ in smoothness median: \")+str(ranksums(c_smooth[i_M],c_smooth[i_B]).pvalue<0.05)])\n",
    "print([str(\"Differ in compactness median: \")+str(ranksums(c_compact[i_M],c_compact[i_B]).pvalue<0.05)])"
   ]
  },
  {
   "cell_type": "markdown",
   "metadata": {},
   "source": [
    "### Write a function to generate bootstrap samples of the data.\n",
    "\n",
    "Bootstrap function is usually used as a non-parameteric estimation of dispersion, and is usually coupled with a function of interest (e.g., mean, median, or more complicated calcuation like survival rate).\n",
    "\n",
    "In the boot function below:\n",
    "- x is the input\n",
    "- boot_func allows the users to define the function of interest\n",
    "- nboot is the number of bootstrapped samples with replacement such that each sample have same N as original x. Algorithm converge at large nboot (rule of thumb nboot=10,000)\n",
    "\n"
   ]
  },
  {
   "cell_type": "code",
   "execution_count": 623,
   "metadata": {},
   "outputs": [],
   "source": [
    "#Bootstrap function\n",
    "def boot(x,nboot,boot_func=[]):\n",
    "    \"\"\" This function takes a variable x, \n",
    "    sample it with replacement nboot times, \n",
    "    and return calcuations defined by boot_func for each nboot. \n",
    "    \"\"\"\n",
    "    if callable(boot_func):\n",
    "        boot_x = np.repeat(np.nan,nboot) #This step speed up the oop by predefining size of vector\n",
    "        for i in range(nboot):\n",
    "            xs = np.random.choice(x,len(x),replace=True)\n",
    "            boot_x[i] = boot_func(xs)\n",
    "    else:\n",
    "        boot_x = [np.random.choice(x,len(x),replace=True) for i in range(nboot)]\n",
    "    return boot_x"
   ]
  },
  {
   "cell_type": "code",
   "execution_count": 654,
   "metadata": {},
   "outputs": [
    {
     "name": "stdout",
     "output_type": "stream",
     "text": [
      "['SE of mean: [2.70389819 3.04081969]']\n"
     ]
    }
   ],
   "source": [
    "#Boostrap demo: generating the SE of mean for c_smooth using bootstrap\n",
    "diff_x_boot = boot(x=c_smooth,nboot=10000,boot_func=np.mean)\n",
    "SE95 = np.percentile(diff_x_boot,[2.5,97.5])\n",
    "print([str('SE of mean: ')+str(SE95)])"
   ]
  },
  {
   "cell_type": "markdown",
   "metadata": {},
   "source": [
    "## ii) Exploratory Analysis"
   ]
  },
  {
   "cell_type": "markdown",
   "metadata": {},
   "source": [
    "### Identify 2-3 variables that are predictive of a malignant tumor.\n",
    "\n",
    "To quickly identify variables of interest for this exercise, I used univariant SelectKBest function to rank features based in traditional ANOVA statistics (f_classif)."
   ]
  },
  {
   "cell_type": "code",
   "execution_count": 506,
   "metadata": {},
   "outputs": [],
   "source": [
    "#Separate the independent and dependent variables\n",
    "y = df_cancer['diagnosis']\n",
    "x = df_cancer.drop(['diagnosis','ID'],axis=1)"
   ]
  },
  {
   "cell_type": "code",
   "execution_count": 507,
   "metadata": {},
   "outputs": [],
   "source": [
    "#Using SelectKBest to quickly identify top variables that have predictive power\n",
    "selector = SelectKBest(f_classif, k=3)\n",
    "selector.fit(x,y)\n",
    "x_index = selector.get_support(indices=True)\n",
    "x_kbest = x.iloc[:,x_index]"
   ]
  },
  {
   "cell_type": "markdown",
   "metadata": {},
   "source": [
    "### Display the relationship visually and write 1-2 sentences explaining the relationship.\n",
    "\n",
    "SelectKBest ranks one feature at a time, therefore features that are highly correlated are often ranked closely together. Correlation matrix helps to see this. \n",
    "\n",
    "The top 3 variables are plotted using seaborns pairplot. In the pair plots, you can see how the variables are naturally correlated and maglignant tutor are seperated along the diagonal. "
   ]
  },
  {
   "cell_type": "code",
   "execution_count": 508,
   "metadata": {},
   "outputs": [
    {
     "data": {
      "text/html": [
       "<div>\n",
       "<style scoped>\n",
       "    .dataframe tbody tr th:only-of-type {\n",
       "        vertical-align: middle;\n",
       "    }\n",
       "\n",
       "    .dataframe tbody tr th {\n",
       "        vertical-align: top;\n",
       "    }\n",
       "\n",
       "    .dataframe thead th {\n",
       "        text-align: right;\n",
       "    }\n",
       "</style>\n",
       "<table border=\"1\" class=\"dataframe\">\n",
       "  <thead>\n",
       "    <tr style=\"text-align: right;\">\n",
       "      <th></th>\n",
       "      <th>perimeter_sd_error</th>\n",
       "      <th>concave_points_sd_error</th>\n",
       "      <th>fractal_dimension_mean</th>\n",
       "    </tr>\n",
       "    <tr>\n",
       "      <th>0</th>\n",
       "      <th></th>\n",
       "      <th></th>\n",
       "      <th></th>\n",
       "    </tr>\n",
       "  </thead>\n",
       "  <tbody>\n",
       "    <tr>\n",
       "      <th>perimeter_sd_error</th>\n",
       "      <td>1.000000</td>\n",
       "      <td>0.855923</td>\n",
       "      <td>0.910155</td>\n",
       "    </tr>\n",
       "    <tr>\n",
       "      <th>concave_points_sd_error</th>\n",
       "      <td>0.855923</td>\n",
       "      <td>1.000000</td>\n",
       "      <td>0.816322</td>\n",
       "    </tr>\n",
       "    <tr>\n",
       "      <th>fractal_dimension_mean</th>\n",
       "      <td>0.910155</td>\n",
       "      <td>0.816322</td>\n",
       "      <td>1.000000</td>\n",
       "    </tr>\n",
       "  </tbody>\n",
       "</table>\n",
       "</div>"
      ],
      "text/plain": [
       "0                        perimeter_sd_error  concave_points_sd_error  \\\n",
       "0                                                                      \n",
       "perimeter_sd_error                 1.000000                 0.855923   \n",
       "concave_points_sd_error            0.855923                 1.000000   \n",
       "fractal_dimension_mean             0.910155                 0.816322   \n",
       "\n",
       "0                        fractal_dimension_mean  \n",
       "0                                                \n",
       "perimeter_sd_error                     0.910155  \n",
       "concave_points_sd_error                0.816322  \n",
       "fractal_dimension_mean                 1.000000  "
      ]
     },
     "execution_count": 508,
     "metadata": {},
     "output_type": "execute_result"
    }
   ],
   "source": [
    "x_kbest.corr()"
   ]
  },
  {
   "cell_type": "code",
   "execution_count": 509,
   "metadata": {},
   "outputs": [
    {
     "name": "stderr",
     "output_type": "stream",
     "text": [
      "C:\\Users\\Chen\\Anaconda3\\lib\\site-packages\\scipy\\stats\\stats.py:1713: FutureWarning: Using a non-tuple sequence for multidimensional indexing is deprecated; use `arr[tuple(seq)]` instead of `arr[seq]`. In the future this will be interpreted as an array index, `arr[np.array(seq)]`, which will result either in an error or a different result.\n",
      "  return np.add.reduce(sorted[indexer] * weights, axis=axis) / sumval\n"
     ]
    },
    {
     "data": {
      "text/plain": [
       "<seaborn.axisgrid.PairGrid at 0x1995abc3898>"
      ]
     },
     "execution_count": 509,
     "metadata": {},
     "output_type": "execute_result"
    },
    {
     "data": {
      "image/png": "[encoded data removed]",
      "text/plain": [
       "<Figure size 595.5x540 with 12 Axes>"
      ]
     },
     "metadata": {
      "needs_background": "light"
     },
     "output_type": "display_data"
    }
   ],
   "source": [
    "sns.pairplot(df_cancer,hue='diagnosis',vars=x_kbest.columns)"
   ]
  },
  {
   "cell_type": "markdown",
   "metadata": {},
   "source": [
    "Before moving onto multivariant modelling, note that variables that are highly correlated conveys similar information. Thus, Including only correlated variables may not be ideal from multivariant modelling perspective. In other words, adding fractal_dimension_mean and perimeter_sd_error might not help to further improve the model from having just fractal_dimension_mean or perimeter_sd_error by itself. \n",
    "\n",
    "But perhaps we can create a better \"reference\" axis for multivariable modelling (hence why we do PCA next)."
   ]
  },
  {
   "cell_type": "markdown",
   "metadata": {},
   "source": [
    "## iii) Modeling"
   ]
  },
  {
   "cell_type": "markdown",
   "metadata": {},
   "source": [
    "### Build a model to predict the malignant tumors.\n",
    "\n",
    "We will use two classification techiques, logistic regression (the traditionay way) and random forest decision tree (modern machine learning algorithm). The two techiniques not only differ in their methodology, they also differ in culture. \n",
    "\n",
    "A bit of historical and philosophical side note:\n",
    "\n",
    "The traditional way, like logistic regression, empathesis more on having a correct understanding of how the data enables prediction - a lot of parametric assumptions are used, such as the link function and i.i.d. distribution etc.). The \"modern\" approach like random forest decision tree mainly aims to minizing cross-validation errors. It leverages on fast computing power to quickly search for the best function to get there. \n",
    "\n",
    "However, getting it accurate doesn't mean you have the proper interpretation of the data. For instance, accurate navagation system was developed based on geocentric (earth centered) view even though the underlying theory is incorrect. We are seeing alot of this in image recognition, and hence why there is a need for GAN models.\n",
    "\n",
    "Thus, although modern model might produce a better fit, the algorithm is a blackbox. In otherwords, we loses interpretability in exhange for accuracy. For more on this, see Leo Breiman, Statistical Modeling: The Two Cultures."
   ]
  },
  {
   "cell_type": "markdown",
   "metadata": {},
   "source": [
    "#### Splitting tesing set from training set, so that we can evaluate the performance of each model"
   ]
  },
  {
   "cell_type": "code",
   "execution_count": 510,
   "metadata": {},
   "outputs": [],
   "source": [
    "#Creating training and testing data set, in order to compare models\n",
    "X_train, X_test, Y_train, Y_test = train_test_split(x, y, test_size=0.2)"
   ]
  },
  {
   "cell_type": "markdown",
   "metadata": {},
   "source": [
    "### Technique 1: Classifical Logistic Regression"
   ]
  },
  {
   "cell_type": "markdown",
   "metadata": {},
   "source": [
    "#### Feature engineering (PCA)\n",
    "\n",
    "Feature engineering - Due to high correlations between variables, PCA is performed to address multi-colinearlity (see the blurb at the end of exploratory analysis section)\n",
    "\n",
    "The first 10 components forms the \"elbow\" and explains 95% of the variation. Thus, the first 10 components will be used for logistic regression. \n",
    "\n",
    "Theortically, doing this enable us to maximize the information while minize dimensionity and sparsity (i.e., reducing dimension from 30 correlated features to 10 orthogonal components that explains 95% of the variation)"
   ]
  },
  {
   "cell_type": "code",
   "execution_count": 511,
   "metadata": {},
   "outputs": [
    {
     "name": "stdout",
     "output_type": "stream",
     "text": [
      "0                           radius_mean  radius_sd_error  radius_worst  \\\n",
      "0                                                                        \n",
      "radius_mean                    1.000000         0.327028      0.997826   \n",
      "radius_sd_error                0.327028         1.000000      0.331623   \n",
      "radius_worst                   0.997826         0.331623      1.000000   \n",
      "texture_mean                   0.986516         0.319145      0.985606   \n",
      "texture_sd_error               0.163964        -0.047148      0.201094   \n",
      "texture_worst                  0.494905         0.225863      0.546565   \n",
      "perimeter_mean                 0.664473         0.299119      0.704543   \n",
      "perimeter_sd_error             0.821811         0.289118      0.850736   \n",
      "perimeter_worst                0.153565         0.050685      0.190264   \n",
      "area_mean                     -0.305571        -0.093154     -0.255128   \n",
      "area_sd_error                  0.701856         0.275679      0.715014   \n",
      "area_worst                    -0.077077         0.361393     -0.065884   \n",
      "smoothness_mean                0.692278         0.277474      0.711338   \n",
      "smoothness_sd_error            0.742940         0.260748      0.751737   \n",
      "smoothness_worst              -0.224774        -0.039065     -0.204622   \n",
      "compactness_mean               0.187648         0.178346      0.232511   \n",
      "compactness_sd_error           0.166298         0.136732      0.199756   \n",
      "compactness_worst              0.357498         0.162373      0.389088   \n",
      "concavity_mean                -0.102950         0.001653     -0.076554   \n",
      "concavity_sd_error            -0.049331         0.033948     -0.012245   \n",
      "concavity_worst                0.969614         0.360161      0.969004   \n",
      "concave_points_mean            0.307724         0.915535      0.312299   \n",
      "concave_points_sd_error        0.966033         0.364099      0.970675   \n",
      "concave_points_worst           0.939200         0.349148      0.938921   \n",
      "symmetry_mean                  0.094693         0.047082      0.126142   \n",
      "symmetry_sd_error              0.390333         0.271124      0.432805   \n",
      "symmetry_worst                 0.498016         0.304943      0.535266   \n",
      "fractal_dimension_mean         0.738610         0.302555      0.765821   \n",
      "fractal_dimension_sd_error     0.150569         0.107194      0.177336   \n",
      "fractal_dimension_worst       -0.001061         0.111385      0.042472   \n",
      "\n",
      "0                           texture_mean  texture_sd_error  texture_worst  \\\n",
      "0                                                                           \n",
      "radius_mean                     0.986516          0.163964       0.494905   \n",
      "radius_sd_error                 0.319145         -0.047148       0.225863   \n",
      "radius_worst                    0.985606          0.201094       0.546565   \n",
      "texture_mean                    1.000000          0.174988       0.487216   \n",
      "texture_sd_error                0.174988          1.000000       0.649127   \n",
      "texture_worst                   0.487216          0.649127       1.000000   \n",
      "perimeter_mean                  0.674832          0.517144       0.880835   \n",
      "perimeter_sd_error              0.823415          0.547853       0.823154   \n",
      "perimeter_worst                 0.156825          0.576296       0.622461   \n",
      "area_mean                      -0.276243          0.589117       0.578610   \n",
      "area_sd_error                   0.760696          0.302851       0.495165   \n",
      "area_worst                     -0.045352          0.082222       0.062721   \n",
      "smoothness_mean                 0.749289          0.298716       0.540057   \n",
      "smoothness_sd_error             0.812565          0.242138       0.437215   \n",
      "smoothness_worst               -0.165333          0.344411       0.133326   \n",
      "compactness_mean                0.194781          0.317184       0.735186   \n",
      "compactness_sd_error            0.181299          0.235057       0.554724   \n",
      "compactness_worst               0.356423          0.365187       0.631786   \n",
      "concavity_mean                 -0.066296          0.244675       0.269581   \n",
      "concavity_sd_error             -0.025843          0.284790       0.508295   \n",
      "concavity_worst                 0.962072          0.199842       0.517635   \n",
      "concave_points_mean             0.293085          0.006256       0.239536   \n",
      "concave_points_sd_error         0.958944          0.227440       0.572687   \n",
      "concave_points_worst            0.958311          0.197904       0.489512   \n",
      "symmetry_mean                   0.102820          0.794557       0.555245   \n",
      "symmetry_sd_error               0.366278          0.460653       0.859874   \n",
      "symmetry_worst                  0.483320          0.415225       0.808635   \n",
      "fractal_dimension_mean          0.715896          0.483908       0.809122   \n",
      "fractal_dimension_sd_error      0.129234          0.405443       0.526185   \n",
      "fractal_dimension_worst        -0.005432          0.486480       0.689149   \n",
      "\n",
      "0                           perimeter_mean  perimeter_sd_error  \\\n",
      "0                                                                \n",
      "radius_mean                       0.664473            0.821811   \n",
      "radius_sd_error                   0.299119            0.289118   \n",
      "radius_worst                      0.704543            0.850736   \n",
      "texture_mean                      0.674832            0.823415   \n",
      "texture_sd_error                  0.517144            0.547853   \n",
      "texture_worst                     0.880835            0.823154   \n",
      "perimeter_mean                    1.000000            0.915332   \n",
      "perimeter_sd_error                0.915332            1.000000   \n",
      "perimeter_worst                   0.514811            0.474178   \n",
      "area_mean                         0.347987            0.170156   \n",
      "area_sd_error                     0.647133            0.711049   \n",
      "area_worst                        0.101565            0.044586   \n",
      "smoothness_mean                   0.666005            0.717854   \n",
      "smoothness_sd_error               0.613157            0.687346   \n",
      "smoothness_worst                  0.100081            0.024449   \n",
      "compactness_mean                  0.664924            0.474303   \n",
      "compactness_sd_error              0.682475            0.410864   \n",
      "compactness_worst                 0.677954            0.593743   \n",
      "concavity_mean                    0.206652            0.107590   \n",
      "concavity_sd_error                0.450475            0.250045   \n",
      "concavity_worst                   0.673142            0.825450   \n",
      "concave_points_mean               0.298595            0.291545   \n",
      "concave_points_sd_error           0.715023            0.852341   \n",
      "concave_points_worst              0.659812            0.803879   \n",
      "symmetry_mean                     0.436079            0.434403   \n",
      "symmetry_sd_error                 0.745710            0.651164   \n",
      "symmetry_worst                    0.874527            0.729418   \n",
      "fractal_dimension_mean            0.854776            0.904202   \n",
      "fractal_dimension_sd_error        0.412229            0.370591   \n",
      "fractal_dimension_worst           0.509515            0.358582   \n",
      "\n",
      "0                           perimeter_worst  area_mean  \\\n",
      "0                                                        \n",
      "radius_mean                        0.153565  -0.305571   \n",
      "radius_sd_error                    0.050685  -0.093154   \n",
      "radius_worst                       0.190264  -0.255128   \n",
      "texture_mean                       0.156825  -0.276243   \n",
      "texture_sd_error                   0.576296   0.589117   \n",
      "texture_worst                      0.622461   0.578610   \n",
      "perimeter_mean                     0.514811   0.347987   \n",
      "perimeter_sd_error                 0.474178   0.170156   \n",
      "perimeter_worst                    1.000000   0.488350   \n",
      "area_mean                          0.488350   1.000000   \n",
      "area_sd_error                      0.295022  -0.009843   \n",
      "area_worst                         0.114004   0.160889   \n",
      "smoothness_mean                    0.307065   0.025083   \n",
      "smoothness_sd_error                0.212054  -0.102667   \n",
      "smoothness_worst                   0.186505   0.397929   \n",
      "compactness_mean                   0.430189   0.573755   \n",
      "compactness_sd_error               0.350572   0.453094   \n",
      "compactness_worst                  0.402605   0.350968   \n",
      "concavity_mean                     0.450612   0.388493   \n",
      "concavity_sd_error                 0.329444   0.689784   \n",
      "concavity_worst                    0.185104  -0.256219   \n",
      "concave_points_mean                0.064152  -0.071382   \n",
      "concave_points_sd_error            0.220540  -0.209557   \n",
      "concave_points_worst               0.175199  -0.235372   \n",
      "symmetry_mean                      0.434503   0.517838   \n",
      "symmetry_sd_error                  0.481121   0.472849   \n",
      "symmetry_worst                     0.442431   0.359840   \n",
      "fractal_dimension_mean             0.439634   0.180409   \n",
      "fractal_dimension_sd_error         0.696518   0.361069   \n",
      "fractal_dimension_worst            0.440288   0.767598   \n",
      "\n",
      "0                                    ...             concavity_worst  \\\n",
      "0                                    ...                               \n",
      "radius_mean                          ...                    0.969614   \n",
      "radius_sd_error                      ...                    0.360161   \n",
      "radius_worst                         ...                    0.969004   \n",
      "texture_mean                         ...                    0.962072   \n",
      "texture_sd_error                     ...                    0.199842   \n",
      "texture_worst                        ...                    0.517635   \n",
      "perimeter_mean                       ...                    0.673142   \n",
      "perimeter_sd_error                   ...                    0.825450   \n",
      "perimeter_worst                      ...                    0.185104   \n",
      "area_mean                            ...                   -0.256219   \n",
      "area_sd_error                        ...                    0.721464   \n",
      "area_worst                           ...                   -0.097148   \n",
      "smoothness_mean                      ...                    0.699102   \n",
      "smoothness_sd_error                  ...                    0.751558   \n",
      "smoothness_worst                     ...                   -0.236909   \n",
      "compactness_mean                     ...                    0.182583   \n",
      "compactness_sd_error                 ...                    0.159196   \n",
      "compactness_worst                    ...                    0.337914   \n",
      "concavity_mean                       ...                   -0.134158   \n",
      "concavity_sd_error                   ...                   -0.048761   \n",
      "concavity_worst                      ...                    1.000000   \n",
      "concave_points_mean                  ...                    0.374833   \n",
      "concave_points_sd_error              ...                    0.993917   \n",
      "concave_points_worst                 ...                    0.982972   \n",
      "symmetry_mean                        ...                    0.193127   \n",
      "symmetry_sd_error                    ...                    0.449466   \n",
      "symmetry_worst                       ...                    0.546646   \n",
      "fractal_dimension_mean               ...                    0.781954   \n",
      "fractal_dimension_sd_error           ...                    0.230825   \n",
      "fractal_dimension_worst              ...                    0.080322   \n",
      "\n",
      "0                           concave_points_mean  concave_points_sd_error  \\\n",
      "0                                                                          \n",
      "radius_mean                            0.307724                 0.966033   \n",
      "radius_sd_error                        0.915535                 0.364099   \n",
      "radius_worst                           0.312299                 0.970675   \n",
      "texture_mean                           0.293085                 0.958944   \n",
      "texture_sd_error                       0.006256                 0.227440   \n",
      "texture_worst                          0.239536                 0.572687   \n",
      "perimeter_mean                         0.298595                 0.715023   \n",
      "perimeter_sd_error                     0.291545                 0.852341   \n",
      "perimeter_worst                        0.064152                 0.220540   \n",
      "area_mean                             -0.071382                -0.209557   \n",
      "area_sd_error                          0.197920                 0.726865   \n",
      "area_worst                             0.377234                -0.086427   \n",
      "smoothness_mean                        0.202109                 0.722917   \n",
      "smoothness_sd_error                    0.198334                 0.755454   \n",
      "smoothness_worst                      -0.117644                -0.223873   \n",
      "compactness_mean                       0.131299                 0.238063   \n",
      "compactness_sd_error                   0.096638                 0.197974   \n",
      "compactness_worst                      0.090956                 0.376321   \n",
      "concavity_mean                        -0.093045                -0.105139   \n",
      "concavity_sd_error                    -0.019486                -0.014373   \n",
      "concavity_worst                        0.374833                 0.993917   \n",
      "concave_points_mean                    1.000000                 0.379508   \n",
      "concave_points_sd_error                0.379508                 1.000000   \n",
      "concave_points_worst                   0.358146                 0.976101   \n",
      "symmetry_mean                          0.194394                 0.216213   \n",
      "symmetry_sd_error                      0.358247                 0.504112   \n",
      "symmetry_worst                         0.377186                 0.593317   \n",
      "fractal_dimension_mean                 0.374526                 0.813223   \n",
      "fractal_dimension_sd_error             0.227110                 0.260903   \n",
      "fractal_dimension_worst                0.214808                 0.125001   \n",
      "\n",
      "0                           concave_points_worst  symmetry_mean  \\\n",
      "0                                                                 \n",
      "radius_mean                             0.939200       0.094693   \n",
      "radius_sd_error                         0.349148       0.047082   \n",
      "radius_worst                            0.938921       0.126142   \n",
      "texture_mean                            0.958311       0.102820   \n",
      "texture_sd_error                        0.197904       0.794557   \n",
      "texture_worst                           0.489512       0.555245   \n",
      "perimeter_mean                          0.659812       0.436079   \n",
      "perimeter_sd_error                      0.803879       0.434403   \n",
      "perimeter_worst                         0.175199       0.434503   \n",
      "area_mean                              -0.235372       0.517838   \n",
      "area_sd_error                           0.761201       0.132878   \n",
      "area_worst                             -0.066776      -0.084671   \n",
      "smoothness_mean                         0.734431       0.123437   \n",
      "smoothness_sd_error                     0.808480       0.111829   \n",
      "smoothness_worst                       -0.183540       0.315008   \n",
      "compactness_mean                        0.176395       0.218483   \n",
      "compactness_sd_error                    0.161399       0.153192   \n",
      "compactness_worst                       0.324528       0.191261   \n",
      "concavity_mean                         -0.112492       0.027280   \n",
      "concavity_sd_error                     -0.034525       0.165215   \n",
      "concavity_worst                         0.982972       0.193127   \n",
      "concave_points_mean                     0.358146       0.194394   \n",
      "concave_points_sd_error                 0.976101       0.216213   \n",
      "concave_points_worst                    1.000000       0.191095   \n",
      "symmetry_mean                           0.191095       1.000000   \n",
      "symmetry_sd_error                       0.409250       0.561130   \n",
      "symmetry_worst                          0.514530       0.503002   \n",
      "fractal_dimension_mean                  0.740022       0.526921   \n",
      "fractal_dimension_sd_error              0.193937       0.520103   \n",
      "fractal_dimension_worst                 0.063633       0.618408   \n",
      "\n",
      "0                           symmetry_sd_error  symmetry_worst  \\\n",
      "0                                                               \n",
      "radius_mean                          0.390333        0.498016   \n",
      "radius_sd_error                      0.271124        0.304943   \n",
      "radius_worst                         0.432805        0.535266   \n",
      "texture_mean                         0.366278        0.483320   \n",
      "texture_sd_error                     0.460653        0.415225   \n",
      "texture_worst                        0.859874        0.808635   \n",
      "perimeter_mean                       0.745710        0.874527   \n",
      "perimeter_sd_error                   0.651164        0.729418   \n",
      "perimeter_worst                      0.481121        0.442431   \n",
      "area_mean                            0.472849        0.359840   \n",
      "area_sd_error                        0.272655        0.375934   \n",
      "area_worst                          -0.087150       -0.050501   \n",
      "smoothness_mean                      0.324632        0.409503   \n",
      "smoothness_sd_error                  0.255836        0.364152   \n",
      "smoothness_worst                    -0.061405       -0.063349   \n",
      "compactness_mean                     0.673160        0.634479   \n",
      "compactness_sd_error                 0.471824        0.655050   \n",
      "compactness_worst                    0.444462        0.540871   \n",
      "concavity_mean                       0.090966        0.059119   \n",
      "concavity_sd_error                   0.385124        0.376917   \n",
      "concavity_worst                      0.449466        0.546646   \n",
      "concave_points_mean                  0.358247        0.377186   \n",
      "concave_points_sd_error              0.504112        0.593317   \n",
      "concave_points_worst                 0.409250        0.514530   \n",
      "symmetry_mean                        0.561130        0.503002   \n",
      "symmetry_sd_error                    1.000000        0.892809   \n",
      "symmetry_worst                       0.892809        1.000000   \n",
      "fractal_dimension_mean               0.798150        0.844021   \n",
      "fractal_dimension_sd_error           0.636778        0.544090   \n",
      "fractal_dimension_worst              0.820806        0.691461   \n",
      "\n",
      "0                           fractal_dimension_mean  \\\n",
      "0                                                    \n",
      "radius_mean                               0.738610   \n",
      "radius_sd_error                           0.302555   \n",
      "radius_worst                              0.765821   \n",
      "texture_mean                              0.715896   \n",
      "texture_sd_error                          0.483908   \n",
      "texture_worst                             0.809122   \n",
      "perimeter_mean                            0.854776   \n",
      "perimeter_sd_error                        0.904202   \n",
      "perimeter_worst                           0.439634   \n",
      "area_mean                                 0.180409   \n",
      "area_sd_error                             0.535633   \n",
      "area_worst                               -0.099334   \n",
      "smoothness_mean                           0.556913   \n",
      "smoothness_sd_error                       0.527185   \n",
      "smoothness_worst                         -0.114512   \n",
      "compactness_mean                          0.470714   \n",
      "compactness_sd_error                      0.417128   \n",
      "compactness_worst                         0.583937   \n",
      "concavity_mean                           -0.022181   \n",
      "concavity_sd_error                        0.207927   \n",
      "concavity_worst                           0.781954   \n",
      "concave_points_mean                       0.374526   \n",
      "concave_points_sd_error                   0.813223   \n",
      "concave_points_worst                      0.740022   \n",
      "symmetry_mean                             0.526921   \n",
      "symmetry_sd_error                         0.798150   \n",
      "symmetry_worst                            0.844021   \n",
      "fractal_dimension_mean                    1.000000   \n",
      "fractal_dimension_sd_error                0.509852   \n",
      "fractal_dimension_worst                   0.511396   \n",
      "\n",
      "0                           fractal_dimension_sd_error  \\\n",
      "0                                                        \n",
      "radius_mean                                   0.150569   \n",
      "radius_sd_error                               0.107194   \n",
      "radius_worst                                  0.177336   \n",
      "texture_mean                                  0.129234   \n",
      "texture_sd_error                              0.405443   \n",
      "texture_worst                                 0.526185   \n",
      "perimeter_mean                                0.412229   \n",
      "perimeter_sd_error                            0.370591   \n",
      "perimeter_worst                               0.696518   \n",
      "area_mean                                     0.361069   \n",
      "area_sd_error                                 0.068426   \n",
      "area_worst                                   -0.151817   \n",
      "smoothness_mean                               0.091216   \n",
      "smoothness_sd_error                           0.047793   \n",
      "smoothness_worst                             -0.097023   \n",
      "compactness_mean                              0.290345   \n",
      "compactness_sd_error                          0.203749   \n",
      "compactness_worst                             0.140816   \n",
      "concavity_mean                                0.364589   \n",
      "concavity_sd_error                            0.117166   \n",
      "concavity_worst                               0.230825   \n",
      "concave_points_mean                           0.227110   \n",
      "concave_points_sd_error                       0.260903   \n",
      "concave_points_worst                          0.193937   \n",
      "symmetry_mean                                 0.520103   \n",
      "symmetry_sd_error                             0.636778   \n",
      "symmetry_worst                                0.544090   \n",
      "fractal_dimension_mean                        0.509852   \n",
      "fractal_dimension_sd_error                    1.000000   \n",
      "fractal_dimension_worst                       0.570045   \n",
      "\n",
      "0                           fractal_dimension_worst  \n",
      "0                                                    \n",
      "radius_mean                               -0.001061  \n",
      "radius_sd_error                            0.111385  \n",
      "radius_worst                               0.042472  \n",
      "texture_mean                              -0.005432  \n",
      "texture_sd_error                           0.486480  \n",
      "texture_worst                              0.689149  \n",
      "perimeter_mean                             0.509515  \n",
      "perimeter_sd_error                         0.358582  \n",
      "perimeter_worst                            0.440288  \n",
      "area_mean                                  0.767598  \n",
      "area_sd_error                              0.033550  \n",
      "area_worst                                -0.046385  \n",
      "smoothness_mean                            0.066136  \n",
      "smoothness_sd_error                       -0.006280  \n",
      "smoothness_worst                           0.094194  \n",
      "compactness_mean                           0.595379  \n",
      "compactness_sd_error                       0.433203  \n",
      "compactness_worst                          0.310881  \n",
      "concavity_mean                             0.111953  \n",
      "concavity_sd_error                         0.580547  \n",
      "concavity_worst                            0.080322  \n",
      "concave_points_mean                        0.214808  \n",
      "concave_points_sd_error                    0.125001  \n",
      "concave_points_worst                       0.063633  \n",
      "symmetry_mean                              0.618408  \n",
      "symmetry_sd_error                          0.820806  \n",
      "symmetry_worst                             0.691461  \n",
      "fractal_dimension_mean                     0.511396  \n",
      "fractal_dimension_sd_error                 0.570045  \n",
      "fractal_dimension_worst                    1.000000  \n",
      "\n",
      "[30 rows x 30 columns]\n"
     ]
    }
   ],
   "source": [
    "print(X_train.corr()) \n",
    "\n",
    "#PCA transform the x feature matrixes into orthogonal components\n",
    "pca = decomposition.PCA()\n",
    "x_train_Scaled = X_train.apply(lambda x: scaler(x))\n",
    "x_train_scaled_pca = pca.fit_transform(x_train_Scaled)\n",
    "x_test_Scaled = X_test.apply(lambda x: scaler(x))\n",
    "x_test_scaled_pca = pca.fit_transform(x_test_Scaled)"
   ]
  },
  {
   "cell_type": "code",
   "execution_count": 656,
   "metadata": {},
   "outputs": [
    {
     "name": "stdout",
     "output_type": "stream",
     "text": [
      "0.9516540663517947\n"
     ]
    },
    {
     "data": {
      "image/png": "[encoded data removed]",
      "text/plain": [
       "<Figure size 432x288 with 1 Axes>"
      ]
     },
     "metadata": {
      "needs_background": "light"
     },
     "output_type": "display_data"
    }
   ],
   "source": [
    "#Determine the number of principle components to include\n",
    "plt.plot(pca.fit(x_train_Scaled).explained_variance_ratio_)\n",
    "print(np.sum(pca.fit(x_train_Scaled).explained_variance_ratio_[0:10]))"
   ]
  },
  {
   "cell_type": "markdown",
   "metadata": {},
   "source": [
    "#### Fitting logistic regression with regularization to control for overfitting\n",
    "Using the first 10 components as our feature, we fit betas with logistic link function to determine the probability of cancer being malignant or not.\n",
    "\n",
    "However, a straight out fitting is not ideal because there is a chance that the function might overfit. In other words, the pattern that the function fits to might not generalize, and therefore generating subopitmal error rate in testing set.\n",
    "\n",
    "One way to address this to use regularization to reduce the influence of variables that carries less information about the class of cancer (y). In this demo, I picked l2 pentalization and tune the hyperparameters using 10 fold cross validation."
   ]
  },
  {
   "cell_type": "code",
   "execution_count": 657,
   "metadata": {},
   "outputs": [],
   "source": [
    "LogReg2 = LogisticRegressionCV(solver='saga',max_iter=4000,penalty='l2',cv=10).fit(x_train_scaled_pca[:,0:10],Y_train)"
   ]
  },
  {
   "cell_type": "markdown",
   "metadata": {},
   "source": [
    "#### Feature importance\n",
    "\n",
    "The coefficent magnitude measures the unit change in probability of having cancer. Since our PCA are centered and scaled, the coefficent magnitude can be used to determine feature importance. \n",
    "\n",
    "However, looking at coefficent magnitude would only help to rank the PCA components. To rank the importance of individual x variables, we have to also consider the PCA loadings. \n",
    "\n",
    "Here, the first two principle components is the most important - no suprises here. Within the first component, 'fractal_dimension_worst' appears to be the most important x variable."
   ]
  },
  {
   "cell_type": "code",
   "execution_count": 812,
   "metadata": {},
   "outputs": [
    {
     "name": "stdout",
     "output_type": "stream",
     "text": [
      "[[2.86334034 1.68389853 0.75859802 0.42009973 1.35853178 0.55204631\n",
      "  0.23200008 1.15957167 1.59827281 0.23378886]]\n",
      "Index(['fractal_dimension_worst'], dtype='object', name=0)\n"
     ]
    }
   ],
   "source": [
    "#The first two principle components has the highest |coef|\n",
    "print(abs(LogReg2.coef_))\n",
    "\n",
    "#Of the variables that goes into the first compoents, fractal_dimension_worst appears to be most important\n",
    "i_features_PC1 = abs(pca.components_[:,0:1] * np.sqrt(pca.explained_variance_[0:1])).argmax(axis=0)\n",
    "print(X_train.columns[i_features_PC1])"
   ]
  },
  {
   "cell_type": "markdown",
   "metadata": {},
   "source": [
    "We can combine the coefficent magnitude AND the PCA loadings, and rank the importance of individual x variables. This works because both logstic regression and PCA are both linear transformation.\n",
    "\n",
    "    Importance_X(i) = sum_p(coef(p)*LoadingFactor(p,i))\n",
    "    \n",
    "Here, we see that the top 3 variables are: fractal_dimension_worst, compactness_worst, radius_mean"
   ]
  },
  {
   "cell_type": "code",
   "execution_count": 819,
   "metadata": {},
   "outputs": [
    {
     "data": {
      "text/plain": [
       "Index(['radius_mean', 'compactness_worst', 'fractal_dimension_worst'], dtype='object', name=0)"
      ]
     },
     "execution_count": 819,
     "metadata": {},
     "output_type": "execute_result"
    }
   ],
   "source": [
    "#Compute and rank individual x features in order of their importance\n",
    "score_x_features = np.sum(abs(pca.components_[:,0:10] * np.sqrt(pca.explained_variance_[0:10])*LogReg2.coef_),axis=1)\n",
    "i_features = score_features.argsort(axis=0)[-3:]\n",
    "\n",
    "#Extract the top three features\n",
    "X_train.columns[i_features]"
   ]
  },
  {
   "cell_type": "markdown",
   "metadata": {},
   "source": [
    "#### Model performance evaluate\n",
    "\n",
    "Common way to evaluate classification model is using accuracy score and the confusion matrix.\n",
    "\n",
    "While accuracy score provides a nice summary statistics to contrast two models, where higher and closer to 100% the better, the confusion matrix provides more details on the inaccurate classifications.\n",
    "\n",
    "Below is a general definition of the 4 scores outputed by the confusion matrix, taken from https://www.dataschool.io/simple-guide-to-confusion-matrix-terminology/:\n",
    "\n",
    "- true positives (TP): Cases that are correctly predicted to have disease\n",
    "- true negatives (TN): Cases that are correctly predicted to have no disease\n",
    "- false positives (FP): We predicted yes, but they don't actually have the disease.\n",
    "- false negatives (FN): We predicted no, but they actually do have the disease.\n"
   ]
  },
  {
   "cell_type": "code",
   "execution_count": 676,
   "metadata": {},
   "outputs": [
    {
     "name": "stdout",
     "output_type": "stream",
     "text": [
      "['tn, fp, fn, tp: [67  3  2 42]']\n",
      "['accuracy for testing set: 0.956140350877193']\n"
     ]
    }
   ],
   "source": [
    "c_matrix_log = confusion_matrix(LogReg2.predict(x_test_scaled_pca[:,0:10]),Y_test)\n",
    "a_score_log = accuracy_score(LogReg2.predict(x_test_scaled_pca[:,0:10]),Y_test)\n",
    "\n",
    "print(['tn, fp, fn, tp: '+str(c_matrix_log.ravel())])\n",
    "print(['accuracy for testing set: '+str(a_score_log)])"
   ]
  },
  {
   "cell_type": "markdown",
   "metadata": {},
   "source": [
    "### Technique 2: Random forest\n"
   ]
  },
  {
   "cell_type": "markdown",
   "metadata": {},
   "source": [
    "#### Hyperparameter tuning using gridsearch\n",
    "\n",
    "Compare to logistic regression, random forest have more hyperparameters to tune and thus requires more resources/time to train. \n",
    "\n",
    "These hyperparameters also provide the model with more flexiablity, and thus we don't need to worry as much about feature engineering. Plus it is a non-linear decision trees, and thus could handle multicollinearity issue slightly better than the linear logistic approach. \n",
    "\n",
    "Hence we aren't going to focus too much on feature engineering, but rather let's spend time on hyperparameter tunning using gridsearch cross-validation."
   ]
  },
  {
   "cell_type": "code",
   "execution_count": 679,
   "metadata": {},
   "outputs": [
    {
     "data": {
      "text/plain": [
       "{'max_depth': 10, 'max_features': 'auto', 'n_estimators': 500}"
      ]
     },
     "execution_count": 679,
     "metadata": {},
     "output_type": "execute_result"
    }
   ],
   "source": [
    "#Initialize the hyperparameters to try, and using 5-fold cross-validation to find the most optimial combinations.\n",
    "#Due to time constrain, we only look at a selective set of possible hyperparameters\n",
    "param_grid = { 'n_estimators': [100, 500, 900],\n",
    "              'max_features': ['auto', 'sqrt'],\n",
    "              'max_depth': [10, 50, 100, None],}\n",
    "rfc=RandomForestClassifier(random_state=0)\n",
    "CV_rfc = GridSearchCV(estimator=rfc, param_grid=param_grid, cv= 5)\n",
    "CV_rfc.fit(X_train, Y_train)\n",
    "\n",
    "#Display the best parameters\n",
    "print(CV_rfc.best_params_)"
   ]
  },
  {
   "cell_type": "markdown",
   "metadata": {},
   "source": [
    "#### Random forest decision tree fitting\n",
    "\n",
    "Once we found our optimal hyperparameters, we can then input them into our random forest algorithm and construct our model. \n",
    "\n",
    "Briefly, random forest works by building many many decision trees (n_estimators determines the number of trees). Each tree is trained on an sightly different set of data, and take a \"vote\" on whether the tumor is malignant or not. At the end, the model will decide the class for that tumor based on majority's pick."
   ]
  },
  {
   "cell_type": "code",
   "execution_count": 681,
   "metadata": {},
   "outputs": [
    {
     "data": {
      "text/plain": [
       "RandomForestClassifier(bootstrap=True, class_weight=None, criterion='gini',\n",
       "            max_depth=10, max_features='auto', max_leaf_nodes=None,\n",
       "            min_impurity_decrease=0.0, min_impurity_split=None,\n",
       "            min_samples_leaf=1, min_samples_split=2,\n",
       "            min_weight_fraction_leaf=0.0, n_estimators=500, n_jobs=None,\n",
       "            oob_score=False, random_state=0, verbose=0, warm_start=False)"
      ]
     },
     "execution_count": 681,
     "metadata": {},
     "output_type": "execute_result"
    }
   ],
   "source": [
    "rfc_best = RandomForestClassifier(random_state=0,n_estimators=500,max_features='auto',max_depth=10)\n",
    "rfc_best.fit(X_train, Y_train)"
   ]
  },
  {
   "cell_type": "markdown",
   "metadata": {},
   "source": [
    "#### Feature importance\n",
    "\n",
    "Because random forest models are a collection of small models (i.e., emsemble method), the importance of the feature are determined by two things:\n",
    "1. probablity of that feature to be selected by each model \n",
    "2. impact of that feature on improving the fit if selected.\n",
    "\n",
    "Here, the top three features identified to be important under random forest are: concave_points_sd_error, fractal_dimension_mean, concavity_worst."
   ]
  },
  {
   "cell_type": "code",
   "execution_count": 821,
   "metadata": {},
   "outputs": [
    {
     "data": {
      "text/plain": [
       "Index(['concavity_worst', 'fractal_dimension_mean', 'concave_points_sd_error'], dtype='object', name=0)"
      ]
     },
     "execution_count": 821,
     "metadata": {},
     "output_type": "execute_result"
    }
   ],
   "source": [
    "i_rfc_topfs = rfc_best.feature_importances_.argsort()[-3:]\n",
    "X_train.columns[i_rfc_topfs]"
   ]
  },
  {
   "cell_type": "markdown",
   "metadata": {},
   "source": [
    "#### Model performance\n",
    "\n",
    "Using the same set up as logistic regression, we can now compare the two results. \n",
    "\n",
    "Interestingly, both logistic and random forest models produce very similar accuracy."
   ]
  },
  {
   "cell_type": "code",
   "execution_count": 822,
   "metadata": {},
   "outputs": [
    {
     "name": "stdout",
     "output_type": "stream",
     "text": [
      "['tn, fp, fn, tp: [68  4  1 41]']\n",
      "['accuracy for testing set: 0.956140350877193']\n"
     ]
    }
   ],
   "source": [
    "#Model performance for random forest model on testing dataset\n",
    "\n",
    "c_matrix_rf = confusion_matrix(rfc_best.predict(X_test),Y_test)\n",
    "a_score_rf = accuracy_score(rfc_best.predict(X_test),Y_test)\n",
    "\n",
    "print(['tn, fp, fn, tp: '+str(c_matrix_rf.ravel())])\n",
    "print(['accuracy for testing set: '+str(a_score_rf)])"
   ]
  },
  {
   "cell_type": "code",
   "execution_count": 823,
   "metadata": {},
   "outputs": [
    {
     "name": "stdout",
     "output_type": "stream",
     "text": [
      "['tn, fp, fn, tp: [67  3  2 42]']\n",
      "['accuracy for testing set: 0.956140350877193']\n"
     ]
    }
   ],
   "source": [
    "#Compare to the logistic model on testing dataset\n",
    "print(['tn, fp, fn, tp: '+str(c_matrix_log.ravel())])\n",
    "print(['accuracy for testing set: '+str(a_score_log)])"
   ]
  },
  {
   "cell_type": "markdown",
   "metadata": {},
   "source": [
    "## iv) Explanation"
   ]
  },
  {
   "cell_type": "markdown",
   "metadata": {},
   "source": [
    "#### Technical Audiences: Explain the limitations of your analysis and identify possible further steps you could take\n",
    "\n",
    "1. The lack of metadata and methodology\n",
    "\n",
    "Start from the data, one of the limitation is not having a full set of metadata to help understand the features. As well as how the variables are collected. These insights are important in forming an idea on how to engineer features, and how to interpret the results. \n",
    "\n",
    "Another concern is whether or not the sample is biased. A common issue in health care is that, western studies are done for patients who are predominately caucasian. Thus, the results does not generalize well to patients of different ethnicity.\n",
    "\n",
    "2. Switch to a multivariable non-parameteric outlier detection method\n",
    "\n",
    "Each column are scaled, and z score > 3 within each column are identified as outliers. This approach has the following limitaitons:\n",
    "- This method does not consider the  correlation between columns. A better approach would be using machine learning cluster analysis like DBScan.\n",
    "- Multiple comparsion problem, as column size increases. In other words, we have a high chance of false positives as we increase the number of columns. Again a high dimensional cluster approach would work better.\n",
    "- z score assumes a normal distribution of the data and does not work well with skewed data. There's likely some columns that does not meet the normal distribution assumption. Thus, a non-parameteric clustering approach would work better.\n",
    "\n",
    "If time allows, I would investigate using DBScan to detect outliers.\n",
    "\n",
    "3. Improve hyperparameter searching space and speed using genetic algorithm\n",
    "\n",
    "Hyperparameter training for machine learning algorithms like random forest can be very expensive. Gridsearch is an exhaustive search function, and this function becomes very expensive when we start to increase the number of hyperparameters (e.g., NP-complete).\n",
    "\n",
    "A faster and more efficent way to solve this problem would be to apply genetic algorithm. This type of algorithm is designed to solve these NP problems, and hae shown success.\n",
    "\n",
    "Switching from gridsearch to genetic algorithm could help to improve model performance for random forest but finding a more optimal set of hyperparameters.\n",
    "\n",
    "\n",
    "4. Power analysis to determine where we lack data\n",
    "\n",
    "Machine learning algorithm tends to out perform traditional methods when we have large amount of data, and feature space. My gut feeling is that with 30 different features, the data might be too sparse and there could be improvements made by increasing sample size. Power analysis could be employed to further answer this question.\n",
    "\n",
    "\n",
    "\n",
    "\n"
   ]
  },
  {
   "cell_type": "markdown",
   "metadata": {},
   "source": [
    "#### Non-Technical Audiences: Write a short summary of your analysis, explaining how your model works and how it performs.\n",
    "\n",
    "We can see that dataset contains enough information to accurately predict whether tumors are maligant or benign.\n",
    "\n",
    "We first saw this in our explortary analysis, where we can see visually see a clear separation in features like fractal_dimension_mean for tumors that are magligant and benign. Using multivariant models (logistic and random forest), we are able to accurately predict correct cases at approximately 95% accuracy level. Although both models gave very similar results, what's under the hood is slightly different.\n",
    "\n",
    "Briefly, logistic regression is a traditional method used for classification. Under this method, model predicts the probability of tumors being maligant. The impact of each feature in determining that prediction can be directly determined by looking at the betas. Random forest also predicts the probability of tumor being magligant. It does so by constructing many set of models using data sets that are slightly different. Probablity of tumor being magligant are estimated based on percentage of votes from each model - much like democratic election, if 80/100 of the votes think the tumor is magligant then the probalbity of it being magligant is 80%. However, the impact of each variable on the predict is not clear. Hence why it is sometimes called a \"black-box\".\n",
    "\n",
    "The variable fractal_dimension kept showing up as an important feature. Under logistic regression, fractal_dimension_worst is one of the top important variables and under random forest, fractal_dimension_mean was identified as one of the top 3.\n",
    "\n",
    "A quick google search shows that fractal dimension seems to be measuring the describe the irregular shapes, and it is one of the criteras used to identify breast cancer (https://www.ncbi.nlm.nih.gov/pmc/articles/PMC6349609/). This supports our findings."
   ]
  }
 ],
 "metadata": {
  "kernelspec": {
   "display_name": "Python 3",
   "language": "python",
   "name": "python3"
  },
  "language_info": {
   "codemirror_mode": {
    "name": "ipython",
    "version": 3
   },
   "file_extension": ".py",
   "mimetype": "text/x-python",
   "name": "python",
   "nbconvert_exporter": "python",
   "pygments_lexer": "ipython3",
   "version": "3.7.1"
  }
 },
 "nbformat": 4,
 "nbformat_minor": 2
}
