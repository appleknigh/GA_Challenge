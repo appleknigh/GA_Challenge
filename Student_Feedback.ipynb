{
 "cells": [
  {
   "cell_type": "markdown",
   "metadata": {},
   "source": [
    "# Student Sample 1"
   ]
  },
  {
   "cell_type": "code",
   "execution_count": null,
   "metadata": {},
   "outputs": [],
   "source": [
    "#!/usr/bin/env python\n",
    "\n",
    "import pandas as pd\n",
    "import numpy as np\n",
    "from sklearn import LinearRegression\n",
    "\n",
    "### CHEN: LinearRegression should be imported from sklearn.linear_model.\n",
    "### Thus, it should be corrected to: from sklearn.linear_model import LinearRegression\n",
    "\n",
    "from sklearn.cross_validation import cross_val_score\n",
    "\n",
    "### CHEN: Again, cross_val_score is from sklearn.model_selection\n",
    "### Thus it should be corrected to: from sklearn.model_selection import cross_val_score\n",
    "\n",
    "# Load data\n",
    "d = pd.read_csv('../data/train.csv')\n",
    "\n",
    "### CHEN: The data are loaded into variable \"d\". However, x1 and x2 are referenced to \"data\".\n",
    "### consider using: data = pd.read_csv('../data/train.csv')\n",
    "\n",
    "# Setup data for prediction\n",
    "x1 = data.SalaryNormalized\n",
    "x2 = pd.get_dummies(data.ContractType)\n",
    "\n",
    "### CHEN: while there is no issue for using x1 and x2 here, \n",
    "### it's a good practice to name dependent and independent variables using y and x respectively.\n",
    "### In this case, you should rename your x1 as y.\n",
    "\n",
    "# Setup model\n",
    "model = LinearRegression()\n",
    "\n",
    "# Evaluate model\n",
    "from sklearn.cross_validation import cross_val_score\n",
    "from sklearn.cross_validation import train_test_split\n",
    "\n",
    "### CHEN: Note that there is no need to import cross_val_score, since you have already imported this previously.\n",
    "### Furthermore, train_test_split was not used. Thus these two lines can be omitted.\n",
    "### For furture reference, train_test_split is a part of sklearn.model_selection.\n",
    "### Thus, the code should be: from sklearn.model_selection import train_test_split\n",
    "\n",
    "scores = cross_val_score(model, x2, x1, cv=1, scoring='mean_absolute_error')\n",
    "print(scores.mean())\n",
    "\n",
    "### CHEN: One fold cross validation is the same as having no cross validation.\n",
    "### Remember, in k-fold, data is split into k groups. So here, the data are not split.\n",
    "\n",
    "### CHEN: To use mean_absolute_error scoring function, the proper declaration should be\n",
    "### scoring = 'neg_mean_absolute_error'"
   ]
  },
  {
   "cell_type": "markdown",
   "metadata": {},
   "source": [
    "# Student Sample 2"
   ]
  },
  {
   "cell_type": "code",
   "execution_count": null,
   "metadata": {},
   "outputs": [],
   "source": [
    "#!/usr/bin/env python\n",
    "\n",
    "import pandas as pd\n",
    "import numpy as np\n",
    "from sklearn.linear_model import LinearRegression\n",
    "from sklearn.cross_validation import cross_val_score\n",
    "\n",
    "### CHEN: Cross_val_score is from sklearn.model_selection\n",
    "### Thus it should be corrected to: from sklearn.model_selection import cross_val_score\n",
    "\n",
    "# Load data\n",
    "data = pd.read_csv('../data/train.csv')\n",
    "\n",
    "# Setup data for prediction\n",
    "y = data.SalaryNormalized\n",
    "X = pd.get_dummies(data.ContractType)\n",
    "\n",
    "# Setup model\n",
    "model = LinearRegression()\n",
    "\n",
    "# Evaluate model\n",
    "scores = cross_val_score(model, X, y, cv=5, scoring='mean_absolute_error')\n",
    "print(scores.mean())\n",
    "\n",
    "### CHEN: To use mean_absolute_error scoring function, the proper declaration should be\n",
    "### scoring = 'neg_mean_absolute_error'"
   ]
  },
  {
   "cell_type": "markdown",
   "metadata": {},
   "source": [
    "## Instructor feedback\n",
    "\n",
    "The feedback provided applies to both samples, since they are very much similar (except for coding errors, which are individually commented in the coding section).\n",
    "\n",
    "### Code: Please see comments in the code\n",
    "\n",
    "### Methodology:\n",
    "Given that this seems to be an introduction model, I won't go into detail on how to improve the fit. \n",
    "\n",
    "However, it is generally a good practice to check the data (e.g., outliers or missing points), the features included in modeling (whether it carries information about the target), and rationalize what link function/model to use (e.g., is a linear model the best approach).\n",
    "\n",
    "I assume that the student will pick up all these skills as they progress through the course.\n",
    "\n",
    "### Conceptual Understanding:\n",
    "It is hard to check the student's conceptual understanding without seeing any comments explaining their thought process. For instance, why do they care about the cross-validation score? Are they trying to use it to estimate testing error?\n",
    "\n",
    "Since there is no hyperparameter tunning done here, it's ok to not do training and testing split (i.e., the model does not use CV to refine its fit, thus no \"data leak\"). But it would be good to see if they understand this point."
   ]
  }
 ],
 "metadata": {
  "kernelspec": {
   "display_name": "Python 3",
   "language": "python",
   "name": "python3"
  },
  "language_info": {
   "codemirror_mode": {
    "name": "ipython",
    "version": 3
   },
   "file_extension": ".py",
   "mimetype": "text/x-python",
   "name": "python",
   "nbconvert_exporter": "python",
   "pygments_lexer": "ipython3",
   "version": "3.7.1"
  }
 },
 "nbformat": 4,
 "nbformat_minor": 4
}
